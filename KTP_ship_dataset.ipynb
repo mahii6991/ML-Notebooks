{
  "cells": [
    {
      "cell_type": "markdown",
      "metadata": {
        "id": "view-in-github",
        "colab_type": "text"
      },
      "source": [
        "<a href=\"https://colab.research.google.com/github/mahii6991/ML-Notebooks/blob/main/KTP_ship_dataset.ipynb\" target=\"_parent\"><img src=\"https://colab.research.google.com/assets/colab-badge.svg\" alt=\"Open In Colab\"/></a>"
      ]
    },
    {
      "cell_type": "markdown",
      "metadata": {
        "id": "yBlfP0VERxLU"
      },
      "source": [
        "## Exploratory Data Analysis"
      ]
    },
    {
      "cell_type": "markdown",
      "metadata": {
        "id": "MZwi5fppR8zp"
      },
      "source": [
        "* Columns in the dataset\n",
        "\n",
        "ship_name,\n",
        "Imo_number (unique for each ship),\n",
        "mmsi,\n",
        "ship_status (In service),\n",
        "ship_type (some common ones are: 'Container Ship (Fully Cellular)', 'General Cargo Ship', 'Bulk\n",
        "Carrier', 'Passenger Ship', 'Products Tanker', 'Chemical/Products Tanker', 'Fishing Vessel', 'Chemical\n",
        "Tanker', 'Ro-Ro Cargo Ship', 'Crude Oil Tanker' )\n",
        "Flag_name (country name: China, Panama, etc)\n",
        "entered (port entry timestamp in UTC)\n",
        "departed (port departure timestamp in UTC)\n",
        "latitude,\n",
        "longitude,\n",
        "port_name,\n",
        "port_country_name,\n",
        "port_code,\n",
        "status (moored, At anchor, could be empty/null)\n",
        "hours_in_port,\n",
        "gross_tonnage,\n",
        "length_overall_loa,\n",
        "draught,\n",
        "breadth.\n",
        "\n",
        "* Target Variable - hours_in_port"
      ]
    },
    {
      "cell_type": "code",
      "execution_count": 1,
      "metadata": {
        "id": "2Rdt_2dSKpg_"
      },
      "outputs": [],
      "source": [
        "import pandas as pd\n",
        "import numpy as np"
      ]
    },
    {
      "cell_type": "code",
      "execution_count": 2,
      "metadata": {
        "id": "KuWQZR6bLJSs"
      },
      "outputs": [],
      "source": [
        "port_call = pd.read_csv('/content/port_calls_prod_60_6.csv',encoding='latin-1')"
      ]
    },
    {
      "cell_type": "code",
      "execution_count": 3,
      "metadata": {
        "colab": {
          "base_uri": "https://localhost:8080/",
          "height": 357
        },
        "id": "p5NZpvcGLJPQ",
        "outputId": "0951287c-3bc8-4b33-8fe2-2526c796d5b9"
      },
      "outputs": [
        {
          "output_type": "execute_result",
          "data": {
            "text/plain": [
              "  ship_name  imo_number         mmsi            ship_status        ship_type  \\\n",
              "0  FLEURTJE     1001702  373602000.0  In Service/Commission  Yacht (Sailing)   \n",
              "1  FLEURTJE     1001702  373602000.0  In Service/Commission  Yacht (Sailing)   \n",
              "2  FLEURTJE     1001702  373602000.0  In Service/Commission  Yacht (Sailing)   \n",
              "3  FLEURTJE     1001702  373602000.0  In Service/Commission  Yacht (Sailing)   \n",
              "4  FLEURTJE     1001702  373602000.0  In Service/Commission  Yacht (Sailing)   \n",
              "\n",
              "  flag_name               entered              departed   latitude  longitude  \\\n",
              "0    Panama  2021-08-26T04:16:17Z                   NaN  37.971436  -0.684088   \n",
              "1    Panama  2021-08-20T23:55:04Z  2021-08-25T09:36:47Z  38.744904   1.423552   \n",
              "2    Panama  2021-08-11T17:31:48Z  2021-08-12T09:36:05Z  38.989326   9.023798   \n",
              "3    Panama  2021-08-10T08:11:41Z  2021-08-10T09:18:30Z  40.696091  14.475155   \n",
              "4    Panama  2021-07-31T14:38:10Z  2021-08-10T06:39:07Z  40.694996  14.476230   \n",
              "\n",
              "                 port_name port_country_name port_code     status  \\\n",
              "0               Torrevieja             Spain     ESTOR     Moored   \n",
              "1                La Savina             Spain     ESCBS  At anchor   \n",
              "2                  Sarroch             Italy     ITPFX  At anchor   \n",
              "3  Castellammare di Stabia             Italy     ITCAS        NaN   \n",
              "4  Castellammare di Stabia             Italy     ITCAS     Moored   \n",
              "\n",
              "   hours_in_port  gross_tonnage  length_overall_loa  draught  breadth  \n",
              "0            NaN          295.0               52.06     4.63     8.57  \n",
              "1          105.7          295.0               52.06     4.63     8.57  \n",
              "2           16.1          295.0               52.06     4.63     8.57  \n",
              "3            1.1          295.0               52.06     4.63     8.57  \n",
              "4          232.0          295.0               52.06     4.63     8.57  "
            ],
            "text/html": [
              "\n",
              "  <div id=\"df-040224e7-3ab1-42ff-bca2-4fb63f6d9bb8\">\n",
              "    <div class=\"colab-df-container\">\n",
              "      <div>\n",
              "<style scoped>\n",
              "    .dataframe tbody tr th:only-of-type {\n",
              "        vertical-align: middle;\n",
              "    }\n",
              "\n",
              "    .dataframe tbody tr th {\n",
              "        vertical-align: top;\n",
              "    }\n",
              "\n",
              "    .dataframe thead th {\n",
              "        text-align: right;\n",
              "    }\n",
              "</style>\n",
              "<table border=\"1\" class=\"dataframe\">\n",
              "  <thead>\n",
              "    <tr style=\"text-align: right;\">\n",
              "      <th></th>\n",
              "      <th>ship_name</th>\n",
              "      <th>imo_number</th>\n",
              "      <th>mmsi</th>\n",
              "      <th>ship_status</th>\n",
              "      <th>ship_type</th>\n",
              "      <th>flag_name</th>\n",
              "      <th>entered</th>\n",
              "      <th>departed</th>\n",
              "      <th>latitude</th>\n",
              "      <th>longitude</th>\n",
              "      <th>port_name</th>\n",
              "      <th>port_country_name</th>\n",
              "      <th>port_code</th>\n",
              "      <th>status</th>\n",
              "      <th>hours_in_port</th>\n",
              "      <th>gross_tonnage</th>\n",
              "      <th>length_overall_loa</th>\n",
              "      <th>draught</th>\n",
              "      <th>breadth</th>\n",
              "    </tr>\n",
              "  </thead>\n",
              "  <tbody>\n",
              "    <tr>\n",
              "      <th>0</th>\n",
              "      <td>FLEURTJE</td>\n",
              "      <td>1001702</td>\n",
              "      <td>373602000.0</td>\n",
              "      <td>In Service/Commission</td>\n",
              "      <td>Yacht (Sailing)</td>\n",
              "      <td>Panama</td>\n",
              "      <td>2021-08-26T04:16:17Z</td>\n",
              "      <td>NaN</td>\n",
              "      <td>37.971436</td>\n",
              "      <td>-0.684088</td>\n",
              "      <td>Torrevieja</td>\n",
              "      <td>Spain</td>\n",
              "      <td>ESTOR</td>\n",
              "      <td>Moored</td>\n",
              "      <td>NaN</td>\n",
              "      <td>295.0</td>\n",
              "      <td>52.06</td>\n",
              "      <td>4.63</td>\n",
              "      <td>8.57</td>\n",
              "    </tr>\n",
              "    <tr>\n",
              "      <th>1</th>\n",
              "      <td>FLEURTJE</td>\n",
              "      <td>1001702</td>\n",
              "      <td>373602000.0</td>\n",
              "      <td>In Service/Commission</td>\n",
              "      <td>Yacht (Sailing)</td>\n",
              "      <td>Panama</td>\n",
              "      <td>2021-08-20T23:55:04Z</td>\n",
              "      <td>2021-08-25T09:36:47Z</td>\n",
              "      <td>38.744904</td>\n",
              "      <td>1.423552</td>\n",
              "      <td>La Savina</td>\n",
              "      <td>Spain</td>\n",
              "      <td>ESCBS</td>\n",
              "      <td>At anchor</td>\n",
              "      <td>105.7</td>\n",
              "      <td>295.0</td>\n",
              "      <td>52.06</td>\n",
              "      <td>4.63</td>\n",
              "      <td>8.57</td>\n",
              "    </tr>\n",
              "    <tr>\n",
              "      <th>2</th>\n",
              "      <td>FLEURTJE</td>\n",
              "      <td>1001702</td>\n",
              "      <td>373602000.0</td>\n",
              "      <td>In Service/Commission</td>\n",
              "      <td>Yacht (Sailing)</td>\n",
              "      <td>Panama</td>\n",
              "      <td>2021-08-11T17:31:48Z</td>\n",
              "      <td>2021-08-12T09:36:05Z</td>\n",
              "      <td>38.989326</td>\n",
              "      <td>9.023798</td>\n",
              "      <td>Sarroch</td>\n",
              "      <td>Italy</td>\n",
              "      <td>ITPFX</td>\n",
              "      <td>At anchor</td>\n",
              "      <td>16.1</td>\n",
              "      <td>295.0</td>\n",
              "      <td>52.06</td>\n",
              "      <td>4.63</td>\n",
              "      <td>8.57</td>\n",
              "    </tr>\n",
              "    <tr>\n",
              "      <th>3</th>\n",
              "      <td>FLEURTJE</td>\n",
              "      <td>1001702</td>\n",
              "      <td>373602000.0</td>\n",
              "      <td>In Service/Commission</td>\n",
              "      <td>Yacht (Sailing)</td>\n",
              "      <td>Panama</td>\n",
              "      <td>2021-08-10T08:11:41Z</td>\n",
              "      <td>2021-08-10T09:18:30Z</td>\n",
              "      <td>40.696091</td>\n",
              "      <td>14.475155</td>\n",
              "      <td>Castellammare di Stabia</td>\n",
              "      <td>Italy</td>\n",
              "      <td>ITCAS</td>\n",
              "      <td>NaN</td>\n",
              "      <td>1.1</td>\n",
              "      <td>295.0</td>\n",
              "      <td>52.06</td>\n",
              "      <td>4.63</td>\n",
              "      <td>8.57</td>\n",
              "    </tr>\n",
              "    <tr>\n",
              "      <th>4</th>\n",
              "      <td>FLEURTJE</td>\n",
              "      <td>1001702</td>\n",
              "      <td>373602000.0</td>\n",
              "      <td>In Service/Commission</td>\n",
              "      <td>Yacht (Sailing)</td>\n",
              "      <td>Panama</td>\n",
              "      <td>2021-07-31T14:38:10Z</td>\n",
              "      <td>2021-08-10T06:39:07Z</td>\n",
              "      <td>40.694996</td>\n",
              "      <td>14.476230</td>\n",
              "      <td>Castellammare di Stabia</td>\n",
              "      <td>Italy</td>\n",
              "      <td>ITCAS</td>\n",
              "      <td>Moored</td>\n",
              "      <td>232.0</td>\n",
              "      <td>295.0</td>\n",
              "      <td>52.06</td>\n",
              "      <td>4.63</td>\n",
              "      <td>8.57</td>\n",
              "    </tr>\n",
              "  </tbody>\n",
              "</table>\n",
              "</div>\n",
              "      <button class=\"colab-df-convert\" onclick=\"convertToInteractive('df-040224e7-3ab1-42ff-bca2-4fb63f6d9bb8')\"\n",
              "              title=\"Convert this dataframe to an interactive table.\"\n",
              "              style=\"display:none;\">\n",
              "        \n",
              "  <svg xmlns=\"http://www.w3.org/2000/svg\" height=\"24px\"viewBox=\"0 0 24 24\"\n",
              "       width=\"24px\">\n",
              "    <path d=\"M0 0h24v24H0V0z\" fill=\"none\"/>\n",
              "    <path d=\"M18.56 5.44l.94 2.06.94-2.06 2.06-.94-2.06-.94-.94-2.06-.94 2.06-2.06.94zm-11 1L8.5 8.5l.94-2.06 2.06-.94-2.06-.94L8.5 2.5l-.94 2.06-2.06.94zm10 10l.94 2.06.94-2.06 2.06-.94-2.06-.94-.94-2.06-.94 2.06-2.06.94z\"/><path d=\"M17.41 7.96l-1.37-1.37c-.4-.4-.92-.59-1.43-.59-.52 0-1.04.2-1.43.59L10.3 9.45l-7.72 7.72c-.78.78-.78 2.05 0 2.83L4 21.41c.39.39.9.59 1.41.59.51 0 1.02-.2 1.41-.59l7.78-7.78 2.81-2.81c.8-.78.8-2.07 0-2.86zM5.41 20L4 18.59l7.72-7.72 1.47 1.35L5.41 20z\"/>\n",
              "  </svg>\n",
              "      </button>\n",
              "      \n",
              "  <style>\n",
              "    .colab-df-container {\n",
              "      display:flex;\n",
              "      flex-wrap:wrap;\n",
              "      gap: 12px;\n",
              "    }\n",
              "\n",
              "    .colab-df-convert {\n",
              "      background-color: #E8F0FE;\n",
              "      border: none;\n",
              "      border-radius: 50%;\n",
              "      cursor: pointer;\n",
              "      display: none;\n",
              "      fill: #1967D2;\n",
              "      height: 32px;\n",
              "      padding: 0 0 0 0;\n",
              "      width: 32px;\n",
              "    }\n",
              "\n",
              "    .colab-df-convert:hover {\n",
              "      background-color: #E2EBFA;\n",
              "      box-shadow: 0px 1px 2px rgba(60, 64, 67, 0.3), 0px 1px 3px 1px rgba(60, 64, 67, 0.15);\n",
              "      fill: #174EA6;\n",
              "    }\n",
              "\n",
              "    [theme=dark] .colab-df-convert {\n",
              "      background-color: #3B4455;\n",
              "      fill: #D2E3FC;\n",
              "    }\n",
              "\n",
              "    [theme=dark] .colab-df-convert:hover {\n",
              "      background-color: #434B5C;\n",
              "      box-shadow: 0px 1px 3px 1px rgba(0, 0, 0, 0.15);\n",
              "      filter: drop-shadow(0px 1px 2px rgba(0, 0, 0, 0.3));\n",
              "      fill: #FFFFFF;\n",
              "    }\n",
              "  </style>\n",
              "\n",
              "      <script>\n",
              "        const buttonEl =\n",
              "          document.querySelector('#df-040224e7-3ab1-42ff-bca2-4fb63f6d9bb8 button.colab-df-convert');\n",
              "        buttonEl.style.display =\n",
              "          google.colab.kernel.accessAllowed ? 'block' : 'none';\n",
              "\n",
              "        async function convertToInteractive(key) {\n",
              "          const element = document.querySelector('#df-040224e7-3ab1-42ff-bca2-4fb63f6d9bb8');\n",
              "          const dataTable =\n",
              "            await google.colab.kernel.invokeFunction('convertToInteractive',\n",
              "                                                     [key], {});\n",
              "          if (!dataTable) return;\n",
              "\n",
              "          const docLinkHtml = 'Like what you see? Visit the ' +\n",
              "            '<a target=\"_blank\" href=https://colab.research.google.com/notebooks/data_table.ipynb>data table notebook</a>'\n",
              "            + ' to learn more about interactive tables.';\n",
              "          element.innerHTML = '';\n",
              "          dataTable['output_type'] = 'display_data';\n",
              "          await google.colab.output.renderOutput(dataTable, element);\n",
              "          const docLink = document.createElement('div');\n",
              "          docLink.innerHTML = docLinkHtml;\n",
              "          element.appendChild(docLink);\n",
              "        }\n",
              "      </script>\n",
              "    </div>\n",
              "  </div>\n",
              "  "
            ]
          },
          "metadata": {},
          "execution_count": 3
        }
      ],
      "source": [
        "port_call.head()"
      ]
    },
    {
      "cell_type": "code",
      "execution_count": 4,
      "metadata": {
        "colab": {
          "base_uri": "https://localhost:8080/",
          "height": 0
        },
        "id": "ys7Q81KMLJMV",
        "outputId": "929c9409-eaf5-4b5b-94f2-bd92aa775172"
      },
      "outputs": [
        {
          "output_type": "execute_result",
          "data": {
            "text/plain": [
              "(21016, 19)"
            ]
          },
          "metadata": {},
          "execution_count": 4
        }
      ],
      "source": [
        "port_call.shape"
      ]
    },
    {
      "cell_type": "code",
      "execution_count": 5,
      "metadata": {
        "colab": {
          "base_uri": "https://localhost:8080/",
          "height": 0
        },
        "id": "SiUYLGwNOXsK",
        "outputId": "e0ba810b-b493-4227-d21f-9ad305a3af28"
      },
      "outputs": [
        {
          "output_type": "stream",
          "name": "stdout",
          "text": [
            "<class 'pandas.core.frame.DataFrame'>\n",
            "RangeIndex: 21016 entries, 0 to 21015\n",
            "Data columns (total 19 columns):\n",
            " #   Column              Non-Null Count  Dtype  \n",
            "---  ------              --------------  -----  \n",
            " 0   ship_name           21016 non-null  object \n",
            " 1   imo_number          21016 non-null  int64  \n",
            " 2   mmsi                19164 non-null  float64\n",
            " 3   ship_status         21016 non-null  object \n",
            " 4   ship_type           21016 non-null  object \n",
            " 5   flag_name           21016 non-null  object \n",
            " 6   entered             21016 non-null  object \n",
            " 7   departed            20959 non-null  object \n",
            " 8   latitude            21016 non-null  float64\n",
            " 9   longitude           21016 non-null  float64\n",
            " 10  port_name           21016 non-null  object \n",
            " 11  port_country_name   21016 non-null  object \n",
            " 12  port_code           21015 non-null  object \n",
            " 13  status              7392 non-null   object \n",
            " 14  hours_in_port       20958 non-null  float64\n",
            " 15  gross_tonnage       21015 non-null  float64\n",
            " 16  length_overall_loa  21015 non-null  float64\n",
            " 17  draught             21015 non-null  float64\n",
            " 18  breadth             21015 non-null  float64\n",
            "dtypes: float64(8), int64(1), object(10)\n",
            "memory usage: 3.0+ MB\n"
          ]
        }
      ],
      "source": [
        "port_call.info()"
      ]
    },
    {
      "cell_type": "code",
      "execution_count": 6,
      "metadata": {
        "colab": {
          "base_uri": "https://localhost:8080/",
          "height": 0
        },
        "id": "6RIAUvufLJJi",
        "outputId": "b0a1b7ed-1d82-4524-d9dc-77026e9869b4"
      },
      "outputs": [
        {
          "output_type": "stream",
          "name": "stdout",
          "text": [
            "ship_name              0.000000\n",
            "imo_number             0.000000\n",
            "mmsi                   8.812333\n",
            "ship_status            0.000000\n",
            "ship_type              0.000000\n",
            "flag_name              0.000000\n",
            "entered                0.000000\n",
            "departed               0.271222\n",
            "latitude               0.000000\n",
            "longitude              0.000000\n",
            "port_name              0.000000\n",
            "port_country_name      0.000000\n",
            "port_code              0.004758\n",
            "status                64.826799\n",
            "hours_in_port          0.275980\n",
            "gross_tonnage          0.004758\n",
            "length_overall_loa     0.004758\n",
            "draught                0.004758\n",
            "breadth                0.004758\n",
            "dtype: float64\n"
          ]
        }
      ],
      "source": [
        "missing_percentage = port_call.isnull().sum() / len(port_call) * 100\n",
        "print(missing_percentage)"
      ]
    },
    {
      "cell_type": "code",
      "execution_count": 7,
      "metadata": {
        "colab": {
          "base_uri": "https://localhost:8080/",
          "height": 637
        },
        "id": "RU9mFZ6aLJGr",
        "outputId": "4faf91f2-73b7-4646-e372-597d44afb07c"
      },
      "outputs": [
        {
          "output_type": "display_data",
          "data": {
            "text/plain": [
              "<Figure size 2500x1000 with 2 Axes>"
            ],
            "image/png": "[encoded data removed]"
          },
          "metadata": {}
        }
      ],
      "source": [
        "#importing necessary modules to look out for the vizualization\n",
        "import missingno as msno\n",
        "import matplotlib.pyplot as plt\n",
        "#forming a matrix for the vizualzation purpose\n",
        "msno.matrix(port_call)\n",
        "plt.show()"
      ]
    },
    {
      "cell_type": "code",
      "execution_count": 8,
      "metadata": {
        "colab": {
          "base_uri": "https://localhost:8080/",
          "height": 811
        },
        "id": "gGOu583LLJDy",
        "outputId": "a742ebf7-e82f-4ac5-f739-2b2d5cafc1bd"
      },
      "outputs": [
        {
          "output_type": "display_data",
          "data": {
            "text/plain": [
              "<Figure size 1000x800 with 2 Axes>"
            ],
            "image/png": "[encoded data removed]"
          },
          "metadata": {}
        }
      ],
      "source": [
        "import seaborn as sns\n",
        "# Compute the correlation matrix\n",
        "correlation_matrix = port_call.corr(numeric_only=True)\n",
        "\n",
        "\n",
        "# Create a heatmap\n",
        "plt.figure(figsize=(10, 8))\n",
        "sns.heatmap(correlation_matrix, annot=False, cmap='coolwarm', fmt=\".2f\", linewidths=0.5)\n",
        "plt.title('Correlation Matrix')\n",
        "plt.show()"
      ]
    },
    {
      "cell_type": "markdown",
      "metadata": {
        "id": "i71HclEoSnyc"
      },
      "source": [
        "## Data Exploration."
      ]
    },
    {
      "cell_type": "markdown",
      "metadata": {
        "id": "yLS-PN58UBlO"
      },
      "source": [
        "Here we are answering two question in our dataset\n",
        "\n",
        "* Compute mean hours_in_port for all dataset (5 marks?)\n",
        "* Which port is most visited in the dataset (5 marks?)"
      ]
    },
    {
      "cell_type": "markdown",
      "metadata": {
        "id": "AMMvvBMfS38m"
      },
      "source": [
        "Answer's for the above two question in the form of output."
      ]
    },
    {
      "cell_type": "code",
      "execution_count": 9,
      "metadata": {
        "colab": {
          "base_uri": "https://localhost:8080/",
          "height": 0
        },
        "id": "us25KRFoTuuS",
        "outputId": "481c0154-756f-4e99-a0b3-0852226e6244"
      },
      "outputs": [
        {
          "output_type": "stream",
          "name": "stdout",
          "text": [
            "Mean hours_in_port: 61.56803130069663\n",
            "Most visited port: Tuborg\n"
          ]
        }
      ],
      "source": [
        "# Compute the mean hours_in_port\n",
        "mean_hours_in_port = port_call['hours_in_port'].mean()\n",
        "\n",
        "# Find the most visited port\n",
        "most_visited_port = port_call['port_name'].value_counts().sort_values(ascending=False).index[0]\n",
        "\n",
        "# Print the results\n",
        "print(f'Mean hours_in_port: {mean_hours_in_port}')\n",
        "print(f'Most visited port: {most_visited_port}')"
      ]
    },
    {
      "cell_type": "markdown",
      "metadata": {
        "id": "ObJPJ8PbUM6J"
      },
      "source": [
        "* Compute mean, max and min hours_in_port for all ships entered US ports\n",
        "(port_country_name=’United States of America’) (5 marks?)"
      ]
    },
    {
      "cell_type": "markdown",
      "metadata": {
        "id": "iQrROun3TGfT"
      },
      "source": [
        "Answer for the above question in the form of output."
      ]
    },
    {
      "cell_type": "code",
      "execution_count": 10,
      "metadata": {
        "colab": {
          "base_uri": "https://localhost:8080/",
          "height": 0
        },
        "id": "80p9bdq4LI4v",
        "outputId": "fb42945f-8ed2-45d7-fcb3-e8337f3f8d7e"
      },
      "outputs": [
        {
          "output_type": "stream",
          "name": "stdout",
          "text": [
            "mean     156.467399\n",
            "amax    8582.300000\n",
            "amin       0.100000\n",
            "Name: hours_in_port, dtype: float64\n"
          ]
        }
      ],
      "source": [
        "# Select the rows where port_country_name is 'United States of America'\n",
        "us_ports = port_call[port_call['port_country_name'] == 'United States of America']\n",
        "\n",
        "# Calculate the mean, max and min hours_in_port\n",
        "us_ports_stats = us_ports['hours_in_port'].agg([np.mean, np.max, np.min])\n",
        "\n",
        "# Print the results\n",
        "print(us_ports_stats)"
      ]
    },
    {
      "cell_type": "markdown",
      "metadata": {
        "id": "139f2TdFTSQo"
      },
      "source": [
        "*  How can we remove outliers from the dataset? (15 marks?)"
      ]
    },
    {
      "cell_type": "markdown",
      "metadata": {
        "id": "9Lwaf7W3fDaq"
      },
      "source": [
        "It is generally recommended to analyze the outliers in both the target variable and predictor variables to determine their nature and potential impact on the analysis. Depending on the specific goals and requirements of our analysis, we can decide whether to remove outliers from the target variable, predictor variables, or both. It's important to consider the potential consequences of removing outliers, such as altering the data distribution or losing important information, and ensure that the chosen approach aligns with the goals and assumptions of your analysis."
      ]
    },
    {
      "cell_type": "code",
      "execution_count": 11,
      "metadata": {
        "colab": {
          "base_uri": "https://localhost:8080/",
          "height": 0
        },
        "id": "OvnqcyfvTUHp",
        "outputId": "bd1bf2a0-33cf-4efc-958a-ed894b43b98f"
      },
      "outputs": [
        {
          "output_type": "stream",
          "name": "stdout",
          "text": [
            "Index(['ship_name', 'ship_status', 'ship_type', 'flag_name', 'entered',\n",
            "       'departed', 'port_name', 'port_country_name', 'port_code', 'status'],\n",
            "      dtype='object')\n"
          ]
        }
      ],
      "source": [
        "import pandas as pd\n",
        "\n",
        "# Assuming you have a dataframe called 'df'\n",
        "categorical_columns = port_call.select_dtypes(include=['object'])\n",
        "\n",
        "# Print the categorical columns\n",
        "print(categorical_columns.columns)"
      ]
    },
    {
      "cell_type": "code",
      "execution_count": 12,
      "metadata": {
        "id": "ICBeBOB1TUcw"
      },
      "outputs": [],
      "source": [
        "continuous_columns = port_call.drop(categorical_columns,axis=1)"
      ]
    },
    {
      "cell_type": "code",
      "execution_count": 13,
      "metadata": {
        "colab": {
          "base_uri": "https://localhost:8080/",
          "height": 0
        },
        "id": "6Zn13lDaez9g",
        "outputId": "6f208a29-bebd-463d-927e-0485f5e01bee"
      },
      "outputs": [
        {
          "output_type": "execute_result",
          "data": {
            "text/plain": [
              "Index(['imo_number', 'mmsi', 'latitude', 'longitude', 'hours_in_port',\n",
              "       'gross_tonnage', 'length_overall_loa', 'draught', 'breadth'],\n",
              "      dtype='object')"
            ]
          },
          "metadata": {},
          "execution_count": 13
        }
      ],
      "source": [
        "continuous_columns.columns"
      ]
    },
    {
      "cell_type": "code",
      "execution_count": 14,
      "metadata": {
        "id": "YdVJQVPTNy0B"
      },
      "outputs": [],
      "source": [
        "# Identify the continuous columns\n",
        "continuous_columns = port_call.select_dtypes(include=np.number).columns\n",
        "\n",
        "# Loop through the continuous columns and remove outliers using any desired method (e.g., Z-score)\n",
        "for column in continuous_columns:\n",
        "    z_scores = np.abs((port_call[column] - port_call[column].mean()) / port_call[column].std())\n",
        "    threshold = 3  # Set the threshold value for outliers\n",
        "    outliers = port_call[z_scores > threshold]\n",
        "    port_call_out = port_call.drop(outliers.index)  # Remove the outliers from the DataFrame\n"
      ]
    },
    {
      "cell_type": "markdown",
      "metadata": {
        "id": "MIiRxTsiWnb5"
      },
      "source": [
        "* Before Outliers"
      ]
    },
    {
      "cell_type": "code",
      "execution_count": 15,
      "metadata": {
        "colab": {
          "base_uri": "https://localhost:8080/",
          "height": 0
        },
        "id": "yXBMFSzxWlem",
        "outputId": "2d7ac801-9490-49be-f756-898354aa6652"
      },
      "outputs": [
        {
          "output_type": "execute_result",
          "data": {
            "text/plain": [
              "(21016, 19)"
            ]
          },
          "metadata": {},
          "execution_count": 15
        }
      ],
      "source": [
        "port_call.shape"
      ]
    },
    {
      "cell_type": "markdown",
      "metadata": {
        "id": "FHUD7VImWqSG"
      },
      "source": [
        "* After Outliers"
      ]
    },
    {
      "cell_type": "code",
      "execution_count": 16,
      "metadata": {
        "colab": {
          "base_uri": "https://localhost:8080/",
          "height": 0
        },
        "id": "-51uYgv6WtIO",
        "outputId": "47151ca3-8519-4a15-fc87-7202ba723cfe"
      },
      "outputs": [
        {
          "output_type": "execute_result",
          "data": {
            "text/plain": [
              "(20400, 19)"
            ]
          },
          "metadata": {},
          "execution_count": 16
        }
      ],
      "source": [
        "port_call_out.shape"
      ]
    },
    {
      "cell_type": "markdown",
      "metadata": {
        "id": "UO87lE2uTlmN"
      },
      "source": [
        "* How can we visualize some port entry on a world map? (Bonus) (10 marks?)"
      ]
    },
    {
      "cell_type": "markdown",
      "metadata": {
        "id": "U78W6lB1TpyQ"
      },
      "source": [
        "Answer -"
      ]
    },
    {
      "cell_type": "code",
      "execution_count": 17,
      "metadata": {
        "colab": {
          "base_uri": "https://localhost:8080/",
          "height": 0
        },
        "id": "hlv20I8Ka5wO",
        "outputId": "e32b4240-f65b-4699-fa59-cf21b2c0a2e5"
      },
      "outputs": [
        {
          "output_type": "stream",
          "name": "stdout",
          "text": [
            "Looking in indexes: https://pypi.org/simple, https://us-python.pkg.dev/colab-wheels/public/simple/\n",
            "Requirement already satisfied: geopandas in /usr/local/lib/python3.10/dist-packages (0.13.2)\n",
            "Requirement already satisfied: fiona>=1.8.19 in /usr/local/lib/python3.10/dist-packages (from geopandas) (1.9.4.post1)\n",
            "Requirement already satisfied: packaging in /usr/local/lib/python3.10/dist-packages (from geopandas) (23.1)\n",
            "Requirement already satisfied: pandas>=1.1.0 in /usr/local/lib/python3.10/dist-packages (from geopandas) (1.5.3)\n",
            "Requirement already satisfied: pyproj>=3.0.1 in /usr/local/lib/python3.10/dist-packages (from geopandas) (3.6.0)\n",
            "Requirement already satisfied: shapely>=1.7.1 in /usr/local/lib/python3.10/dist-packages (from geopandas) (2.0.1)\n",
            "Requirement already satisfied: attrs>=19.2.0 in /usr/local/lib/python3.10/dist-packages (from fiona>=1.8.19->geopandas) (23.1.0)\n",
            "Requirement already satisfied: certifi in /usr/local/lib/python3.10/dist-packages (from fiona>=1.8.19->geopandas) (2023.5.7)\n",
            "Requirement already satisfied: click~=8.0 in /usr/local/lib/python3.10/dist-packages (from fiona>=1.8.19->geopandas) (8.1.3)\n",
            "Requirement already satisfied: click-plugins>=1.0 in /usr/local/lib/python3.10/dist-packages (from fiona>=1.8.19->geopandas) (1.1.1)\n",
            "Requirement already satisfied: cligj>=0.5 in /usr/local/lib/python3.10/dist-packages (from fiona>=1.8.19->geopandas) (0.7.2)\n",
            "Requirement already satisfied: six in /usr/local/lib/python3.10/dist-packages (from fiona>=1.8.19->geopandas) (1.16.0)\n",
            "Requirement already satisfied: python-dateutil>=2.8.1 in /usr/local/lib/python3.10/dist-packages (from pandas>=1.1.0->geopandas) (2.8.2)\n",
            "Requirement already satisfied: pytz>=2020.1 in /usr/local/lib/python3.10/dist-packages (from pandas>=1.1.0->geopandas) (2022.7.1)\n",
            "Requirement already satisfied: numpy>=1.21.0 in /usr/local/lib/python3.10/dist-packages (from pandas>=1.1.0->geopandas) (1.22.4)\n"
          ]
        }
      ],
      "source": [
        "!pip install geopandas"
      ]
    },
    {
      "cell_type": "code",
      "execution_count": 18,
      "metadata": {
        "id": "QGOu3TO-bqzL",
        "colab": {
          "base_uri": "https://localhost:8080/",
          "height": 698
        },
        "outputId": "54c66a80-46ed-4fe2-d1ee-feb1caff295b"
      },
      "outputs": [
        {
          "output_type": "stream",
          "name": "stderr",
          "text": [
            "<ipython-input-18-98067e052833>:15: FutureWarning: The geopandas.dataset module is deprecated and will be removed in GeoPandas 1.0. You can get the original 'naturalearth_lowres' data from https://www.naturalearthdata.com/downloads/110m-cultural-vectors/.\n",
            "  world = gpd.read_file(gpd.datasets.get_path('naturalearth_lowres'))\n"
          ]
        },
        {
          "output_type": "display_data",
          "data": {
            "text/plain": [
              "<Figure size 1500x1000 with 1 Axes>"
            ],
            "image/png": "[encoded data removed]"
          },
          "metadata": {}
        }
      ],
      "source": [
        "\n",
        "import geopandas as gpd\n",
        "import matplotlib.pyplot as plt\n",
        "\n",
        "# Read the dataset and store it in a GeoDataFrame\n",
        "port_calls = gpd.read_file(\"port_calls_prod_60_6.csv\", encoding='latin1')\n",
        "\n",
        "# Filter the dataset to include only the necessary columns for visualization\n",
        "port_entries = port_calls[['latitude', 'longitude']]\n",
        "\n",
        "# Create a GeoDataFrame from the filtered data\n",
        "geometry = gpd.points_from_xy(port_entries['longitude'], port_entries['latitude'])\n",
        "port_entries = gpd.GeoDataFrame(port_entries, geometry=geometry)\n",
        "\n",
        "# Plot the port entries on a world map\n",
        "world = gpd.read_file(gpd.datasets.get_path('naturalearth_lowres'))\n",
        "fig, ax = plt.subplots(figsize=(15, 10))\n",
        "world.plot(ax=ax, color='lightgray')\n",
        "port_entries.plot(ax=ax, color='blue', markersize=2)\n",
        "plt.title(\"Port Entries on World Map\")\n",
        "plt.show()\n"
      ]
    },
    {
      "cell_type": "code",
      "source": [],
      "metadata": {
        "id": "lSpOyomahfL_"
      },
      "execution_count": null,
      "outputs": []
    },
    {
      "cell_type": "code",
      "source": [],
      "metadata": {
        "id": "2aw3TdGshfC6"
      },
      "execution_count": null,
      "outputs": []
    },
    {
      "cell_type": "code",
      "source": [],
      "metadata": {
        "id": "oncfsQlChe_i"
      },
      "execution_count": null,
      "outputs": []
    },
    {
      "cell_type": "code",
      "source": [],
      "metadata": {
        "id": "JxtVKGz_he8E"
      },
      "execution_count": null,
      "outputs": []
    },
    {
      "cell_type": "markdown",
      "metadata": {
        "id": "gpU9fai3TtpP"
      },
      "source": [
        "* How can we group port calls by ship_type (10 marks?)"
      ]
    },
    {
      "cell_type": "markdown",
      "metadata": {
        "id": "vJ6ySZ_ITxOn"
      },
      "source": [
        "Answer -"
      ]
    },
    {
      "cell_type": "code",
      "execution_count": 19,
      "metadata": {
        "id": "qn0bJydLzvB6"
      },
      "outputs": [],
      "source": [
        "#grouping the data on the basis, ship_type\n",
        "grouped_data = port_call.groupby('ship_type').size().reset_index(name='count')\n",
        "#sorting the dataset in the ascending order.\n",
        "grouped_data_sorted = grouped_data.sort_values(by='count', ascending=False)"
      ]
    },
    {
      "cell_type": "code",
      "execution_count": 20,
      "metadata": {
        "colab": {
          "base_uri": "https://localhost:8080/",
          "height": 0
        },
        "id": "yx38yDAHzw2S",
        "outputId": "05f02b5e-060b-4e33-8125-74c7744314db"
      },
      "outputs": [
        {
          "output_type": "stream",
          "name": "stdout",
          "text": [
            "                               ship_type  count\n",
            "12                    General Cargo Ship   5765\n",
            "29       Trailing Suction Hopper Dredger   3841\n",
            "13                         Hopper, Motor   1714\n",
            "24                       Products Tanker   1602\n",
            "33                                 Yacht   1154\n",
            "15                         Landing Craft    836\n",
            "4                         Cement Carrier    805\n",
            "21       Passenger/Ro-Ro Ship (Vehicles)    774\n",
            "0                           Bulk Carrier    664\n",
            "27                 Standby Safety Vessel    623\n",
            "20                      Passenger/Cruise    600\n",
            "16                     Livestock Carrier    532\n",
            "5                        Chemical Tanker    425\n",
            "25                Research Survey Vessel    283\n",
            "31               Water Injection Dredger    188\n",
            "2                 Bunkering Tanker (Oil)    180\n",
            "10                        Fishing Vessel    120\n",
            "28                         Supply Tender    119\n",
            "7                        Deck Cargo Ship    110\n",
            "1               Bulk Cement Storage Ship     91\n",
            "6                               Corvette     91\n",
            "14                            LPG Tanker     81\n",
            "26                          Salvage Ship     81\n",
            "17  Logistics Vessel (Naval Ro-Ro Cargo)     76\n",
            "18               Offshore Support Vessel     65\n",
            "30                         Training Ship     52\n",
            "34                       Yacht (Sailing)     45\n",
            "11                               Frigate     37\n",
            "32                    Work/Repair Vessel     24\n",
            "22                         Patrol Vessel     18\n",
            "19                        Passenger Ship      5\n",
            "3                            Buoy Tender      5\n",
            "23                  Platform Supply Ship      4\n",
            "8                  Diving Support Vessel      4\n",
            "9                          Drilling Ship      2\n"
          ]
        }
      ],
      "source": [
        "# Set display options to show all rows and columns\n",
        "pd.set_option('display.max_rows', None)\n",
        "pd.set_option('display.max_columns',None)\n",
        "print(grouped_data_sorted)"
      ]
    },
    {
      "cell_type": "markdown",
      "metadata": {
        "id": "ylH81UdMX08R"
      },
      "source": [
        "## Preprocessing"
      ]
    },
    {
      "cell_type": "markdown",
      "metadata": {
        "id": "Ps7ypyjvZ5DG"
      },
      "source": [
        "* Values Imputation."
      ]
    },
    {
      "cell_type": "code",
      "execution_count": 21,
      "metadata": {
        "id": "OG2DvOSyXzp2"
      },
      "outputs": [],
      "source": [
        "from sklearn.impute import SimpleImputer\n",
        "# Identify the categorical and continuous columns\n",
        "# Identify the categorical and continuous columns\n",
        "categorical_columns = port_call_out.select_dtypes(include=['object']).columns\n",
        "continuous_columns = port_call_out.select_dtypes(exclude=['object']).columns\n",
        "\n",
        "# Create an instance of SimpleImputer for categorical columns\n",
        "categorical_imputer = SimpleImputer(strategy='most_frequent')\n",
        "\n",
        "# Create an instance of SimpleImputer for continuous columns\n",
        "continuous_imputer = SimpleImputer(strategy='mean')\n",
        "\n",
        "# Fit the categorical imputer to the data\n",
        "categorical_imputer.fit(port_call_out[categorical_columns])\n",
        "\n",
        "# Impute missing values in categorical columns\n",
        "port_call_out[categorical_columns] = categorical_imputer.transform(port_call_out[categorical_columns])\n",
        "\n",
        "# Fit the continuous imputer to the data\n",
        "continuous_imputer.fit(port_call_out[continuous_columns])\n",
        "\n",
        "# Impute missing values in continuous columns\n",
        "port_call_out[continuous_columns] = continuous_imputer.transform(port_call_out[continuous_columns])"
      ]
    },
    {
      "cell_type": "markdown",
      "metadata": {
        "id": "0nCkykJ8cmeN"
      },
      "source": [
        "* Label_encoding."
      ]
    },
    {
      "cell_type": "code",
      "execution_count": 22,
      "metadata": {
        "id": "QRGOy4iWZ4C6"
      },
      "outputs": [],
      "source": [
        "from sklearn.preprocessing import LabelEncoder\n",
        "\n",
        "# Create an instance of LabelEncoder\n",
        "encoder = LabelEncoder()\n",
        "\n",
        "# Apply label encoding to each column\n",
        "encoded_columns = [col + '_encoded' for col in categorical_columns]\n",
        "port_call_out[encoded_columns] = port_call_out[categorical_columns].apply(encoder.fit_transform)\n"
      ]
    },
    {
      "cell_type": "code",
      "execution_count": 23,
      "metadata": {
        "id": "UtgmIvxVdqGQ"
      },
      "outputs": [],
      "source": [
        "from sklearn.preprocessing import LabelEncoder\n",
        "\n",
        "# Create an instance of LabelEncoder\n",
        "encoder = LabelEncoder()\n",
        "\n",
        "# Select categorical columns\n",
        "categorical_columns = port_call_out.select_dtypes(include='object').columns\n",
        "\n",
        "# Apply label encoding to categorical columns\n",
        "port_call_out_encoded = port_call_out[categorical_columns].apply(encoder.fit_transform)\n",
        "\n",
        "# Concatenate the encoded columns with the original DataFrame\n",
        "port_call_out_encoded = pd.concat([port_call_out.drop(columns=categorical_columns), port_call_out_encoded], axis=1)\n"
      ]
    },
    {
      "cell_type": "code",
      "execution_count": 24,
      "metadata": {
        "colab": {
          "base_uri": "https://localhost:8080/",
          "height": 270
        },
        "id": "ZibxtEKKjzoq",
        "outputId": "170eabb2-5fe2-40ef-e260-26bfd6d56ea0"
      },
      "outputs": [
        {
          "output_type": "execute_result",
          "data": {
            "text/plain": [
              "   imo_number         mmsi   latitude  longitude  hours_in_port  \\\n",
              "0   1001702.0  373602000.0  37.971436  -0.684088      59.945498   \n",
              "1   1001702.0  373602000.0  38.744904   1.423552     105.700000   \n",
              "2   1001702.0  373602000.0  38.989326   9.023798      16.100000   \n",
              "3   1001702.0  373602000.0  40.696091  14.475155       1.100000   \n",
              "4   1001702.0  373602000.0  40.694996  14.476230     232.000000   \n",
              "\n",
              "   gross_tonnage  length_overall_loa  draught  breadth  ship_name_encoded  \\\n",
              "0          295.0               52.06     4.63     8.57                 21   \n",
              "1          295.0               52.06     4.63     8.57                 21   \n",
              "2          295.0               52.06     4.63     8.57                 21   \n",
              "3          295.0               52.06     4.63     8.57                 21   \n",
              "4          295.0               52.06     4.63     8.57                 21   \n",
              "\n",
              "   ship_status_encoded  ship_type_encoded  flag_name_encoded  entered_encoded  \\\n",
              "0                    1                 30                 13            18797   \n",
              "1                    1                 30                 13            18691   \n",
              "2                    1                 30                 13            18491   \n",
              "3                    1                 30                 13            18467   \n",
              "4                    1                 30                 13            18270   \n",
              "\n",
              "   departed_encoded  port_name_encoded  port_country_name_encoded  \\\n",
              "0             16073                780                        104   \n",
              "1             18729                400                        104   \n",
              "2             18457                672                         60   \n",
              "3             18416                128                         60   \n",
              "4             18413                128                         60   \n",
              "\n",
              "   port_code_encoded  status_encoded  ship_name  ship_status  ship_type  \\\n",
              "0                241               3         21            1         30   \n",
              "1                222               0         21            1         30   \n",
              "2                455               0         21            1         30   \n",
              "3                434               3         21            1         30   \n",
              "4                434               3         21            1         30   \n",
              "\n",
              "   flag_name  entered  departed  port_name  port_country_name  port_code  \\\n",
              "0         13    18797     16073        780                104        241   \n",
              "1         13    18691     18729        400                104        222   \n",
              "2         13    18491     18457        672                 60        455   \n",
              "3         13    18467     18416        128                 60        434   \n",
              "4         13    18270     18413        128                 60        434   \n",
              "\n",
              "   status  \n",
              "0       3  \n",
              "1       0  \n",
              "2       0  \n",
              "3       3  \n",
              "4       3  "
            ],
            "text/html": [
              "\n",
              "  <div id=\"df-ccd6a2e3-951c-490d-aa33-aa21f9562c53\">\n",
              "    <div class=\"colab-df-container\">\n",
              "      <div>\n",
              "<style scoped>\n",
              "    .dataframe tbody tr th:only-of-type {\n",
              "        vertical-align: middle;\n",
              "    }\n",
              "\n",
              "    .dataframe tbody tr th {\n",
              "        vertical-align: top;\n",
              "    }\n",
              "\n",
              "    .dataframe thead th {\n",
              "        text-align: right;\n",
              "    }\n",
              "</style>\n",
              "<table border=\"1\" class=\"dataframe\">\n",
              "  <thead>\n",
              "    <tr style=\"text-align: right;\">\n",
              "      <th></th>\n",
              "      <th>imo_number</th>\n",
              "      <th>mmsi</th>\n",
              "      <th>latitude</th>\n",
              "      <th>longitude</th>\n",
              "      <th>hours_in_port</th>\n",
              "      <th>gross_tonnage</th>\n",
              "      <th>length_overall_loa</th>\n",
              "      <th>draught</th>\n",
              "      <th>breadth</th>\n",
              "      <th>ship_name_encoded</th>\n",
              "      <th>ship_status_encoded</th>\n",
              "      <th>ship_type_encoded</th>\n",
              "      <th>flag_name_encoded</th>\n",
              "      <th>entered_encoded</th>\n",
              "      <th>departed_encoded</th>\n",
              "      <th>port_name_encoded</th>\n",
              "      <th>port_country_name_encoded</th>\n",
              "      <th>port_code_encoded</th>\n",
              "      <th>status_encoded</th>\n",
              "      <th>ship_name</th>\n",
              "      <th>ship_status</th>\n",
              "      <th>ship_type</th>\n",
              "      <th>flag_name</th>\n",
              "      <th>entered</th>\n",
              "      <th>departed</th>\n",
              "      <th>port_name</th>\n",
              "      <th>port_country_name</th>\n",
              "      <th>port_code</th>\n",
              "      <th>status</th>\n",
              "    </tr>\n",
              "  </thead>\n",
              "  <tbody>\n",
              "    <tr>\n",
              "      <th>0</th>\n",
              "      <td>1001702.0</td>\n",
              "      <td>373602000.0</td>\n",
              "      <td>37.971436</td>\n",
              "      <td>-0.684088</td>\n",
              "      <td>59.945498</td>\n",
              "      <td>295.0</td>\n",
              "      <td>52.06</td>\n",
              "      <td>4.63</td>\n",
              "      <td>8.57</td>\n",
              "      <td>21</td>\n",
              "      <td>1</td>\n",
              "      <td>30</td>\n",
              "      <td>13</td>\n",
              "      <td>18797</td>\n",
              "      <td>16073</td>\n",
              "      <td>780</td>\n",
              "      <td>104</td>\n",
              "      <td>241</td>\n",
              "      <td>3</td>\n",
              "      <td>21</td>\n",
              "      <td>1</td>\n",
              "      <td>30</td>\n",
              "      <td>13</td>\n",
              "      <td>18797</td>\n",
              "      <td>16073</td>\n",
              "      <td>780</td>\n",
              "      <td>104</td>\n",
              "      <td>241</td>\n",
              "      <td>3</td>\n",
              "    </tr>\n",
              "    <tr>\n",
              "      <th>1</th>\n",
              "      <td>1001702.0</td>\n",
              "      <td>373602000.0</td>\n",
              "      <td>38.744904</td>\n",
              "      <td>1.423552</td>\n",
              "      <td>105.700000</td>\n",
              "      <td>295.0</td>\n",
              "      <td>52.06</td>\n",
              "      <td>4.63</td>\n",
              "      <td>8.57</td>\n",
              "      <td>21</td>\n",
              "      <td>1</td>\n",
              "      <td>30</td>\n",
              "      <td>13</td>\n",
              "      <td>18691</td>\n",
              "      <td>18729</td>\n",
              "      <td>400</td>\n",
              "      <td>104</td>\n",
              "      <td>222</td>\n",
              "      <td>0</td>\n",
              "      <td>21</td>\n",
              "      <td>1</td>\n",
              "      <td>30</td>\n",
              "      <td>13</td>\n",
              "      <td>18691</td>\n",
              "      <td>18729</td>\n",
              "      <td>400</td>\n",
              "      <td>104</td>\n",
              "      <td>222</td>\n",
              "      <td>0</td>\n",
              "    </tr>\n",
              "    <tr>\n",
              "      <th>2</th>\n",
              "      <td>1001702.0</td>\n",
              "      <td>373602000.0</td>\n",
              "      <td>38.989326</td>\n",
              "      <td>9.023798</td>\n",
              "      <td>16.100000</td>\n",
              "      <td>295.0</td>\n",
              "      <td>52.06</td>\n",
              "      <td>4.63</td>\n",
              "      <td>8.57</td>\n",
              "      <td>21</td>\n",
              "      <td>1</td>\n",
              "      <td>30</td>\n",
              "      <td>13</td>\n",
              "      <td>18491</td>\n",
              "      <td>18457</td>\n",
              "      <td>672</td>\n",
              "      <td>60</td>\n",
              "      <td>455</td>\n",
              "      <td>0</td>\n",
              "      <td>21</td>\n",
              "      <td>1</td>\n",
              "      <td>30</td>\n",
              "      <td>13</td>\n",
              "      <td>18491</td>\n",
              "      <td>18457</td>\n",
              "      <td>672</td>\n",
              "      <td>60</td>\n",
              "      <td>455</td>\n",
              "      <td>0</td>\n",
              "    </tr>\n",
              "    <tr>\n",
              "      <th>3</th>\n",
              "      <td>1001702.0</td>\n",
              "      <td>373602000.0</td>\n",
              "      <td>40.696091</td>\n",
              "      <td>14.475155</td>\n",
              "      <td>1.100000</td>\n",
              "      <td>295.0</td>\n",
              "      <td>52.06</td>\n",
              "      <td>4.63</td>\n",
              "      <td>8.57</td>\n",
              "      <td>21</td>\n",
              "      <td>1</td>\n",
              "      <td>30</td>\n",
              "      <td>13</td>\n",
              "      <td>18467</td>\n",
              "      <td>18416</td>\n",
              "      <td>128</td>\n",
              "      <td>60</td>\n",
              "      <td>434</td>\n",
              "      <td>3</td>\n",
              "      <td>21</td>\n",
              "      <td>1</td>\n",
              "      <td>30</td>\n",
              "      <td>13</td>\n",
              "      <td>18467</td>\n",
              "      <td>18416</td>\n",
              "      <td>128</td>\n",
              "      <td>60</td>\n",
              "      <td>434</td>\n",
              "      <td>3</td>\n",
              "    </tr>\n",
              "    <tr>\n",
              "      <th>4</th>\n",
              "      <td>1001702.0</td>\n",
              "      <td>373602000.0</td>\n",
              "      <td>40.694996</td>\n",
              "      <td>14.476230</td>\n",
              "      <td>232.000000</td>\n",
              "      <td>295.0</td>\n",
              "      <td>52.06</td>\n",
              "      <td>4.63</td>\n",
              "      <td>8.57</td>\n",
              "      <td>21</td>\n",
              "      <td>1</td>\n",
              "      <td>30</td>\n",
              "      <td>13</td>\n",
              "      <td>18270</td>\n",
              "      <td>18413</td>\n",
              "      <td>128</td>\n",
              "      <td>60</td>\n",
              "      <td>434</td>\n",
              "      <td>3</td>\n",
              "      <td>21</td>\n",
              "      <td>1</td>\n",
              "      <td>30</td>\n",
              "      <td>13</td>\n",
              "      <td>18270</td>\n",
              "      <td>18413</td>\n",
              "      <td>128</td>\n",
              "      <td>60</td>\n",
              "      <td>434</td>\n",
              "      <td>3</td>\n",
              "    </tr>\n",
              "  </tbody>\n",
              "</table>\n",
              "</div>\n",
              "      <button class=\"colab-df-convert\" onclick=\"convertToInteractive('df-ccd6a2e3-951c-490d-aa33-aa21f9562c53')\"\n",
              "              title=\"Convert this dataframe to an interactive table.\"\n",
              "              style=\"display:none;\">\n",
              "        \n",
              "  <svg xmlns=\"http://www.w3.org/2000/svg\" height=\"24px\"viewBox=\"0 0 24 24\"\n",
              "       width=\"24px\">\n",
              "    <path d=\"M0 0h24v24H0V0z\" fill=\"none\"/>\n",
              "    <path d=\"M18.56 5.44l.94 2.06.94-2.06 2.06-.94-2.06-.94-.94-2.06-.94 2.06-2.06.94zm-11 1L8.5 8.5l.94-2.06 2.06-.94-2.06-.94L8.5 2.5l-.94 2.06-2.06.94zm10 10l.94 2.06.94-2.06 2.06-.94-2.06-.94-.94-2.06-.94 2.06-2.06.94z\"/><path d=\"M17.41 7.96l-1.37-1.37c-.4-.4-.92-.59-1.43-.59-.52 0-1.04.2-1.43.59L10.3 9.45l-7.72 7.72c-.78.78-.78 2.05 0 2.83L4 21.41c.39.39.9.59 1.41.59.51 0 1.02-.2 1.41-.59l7.78-7.78 2.81-2.81c.8-.78.8-2.07 0-2.86zM5.41 20L4 18.59l7.72-7.72 1.47 1.35L5.41 20z\"/>\n",
              "  </svg>\n",
              "      </button>\n",
              "      \n",
              "  <style>\n",
              "    .colab-df-container {\n",
              "      display:flex;\n",
              "      flex-wrap:wrap;\n",
              "      gap: 12px;\n",
              "    }\n",
              "\n",
              "    .colab-df-convert {\n",
              "      background-color: #E8F0FE;\n",
              "      border: none;\n",
              "      border-radius: 50%;\n",
              "      cursor: pointer;\n",
              "      display: none;\n",
              "      fill: #1967D2;\n",
              "      height: 32px;\n",
              "      padding: 0 0 0 0;\n",
              "      width: 32px;\n",
              "    }\n",
              "\n",
              "    .colab-df-convert:hover {\n",
              "      background-color: #E2EBFA;\n",
              "      box-shadow: 0px 1px 2px rgba(60, 64, 67, 0.3), 0px 1px 3px 1px rgba(60, 64, 67, 0.15);\n",
              "      fill: #174EA6;\n",
              "    }\n",
              "\n",
              "    [theme=dark] .colab-df-convert {\n",
              "      background-color: #3B4455;\n",
              "      fill: #D2E3FC;\n",
              "    }\n",
              "\n",
              "    [theme=dark] .colab-df-convert:hover {\n",
              "      background-color: #434B5C;\n",
              "      box-shadow: 0px 1px 3px 1px rgba(0, 0, 0, 0.15);\n",
              "      filter: drop-shadow(0px 1px 2px rgba(0, 0, 0, 0.3));\n",
              "      fill: #FFFFFF;\n",
              "    }\n",
              "  </style>\n",
              "\n",
              "      <script>\n",
              "        const buttonEl =\n",
              "          document.querySelector('#df-ccd6a2e3-951c-490d-aa33-aa21f9562c53 button.colab-df-convert');\n",
              "        buttonEl.style.display =\n",
              "          google.colab.kernel.accessAllowed ? 'block' : 'none';\n",
              "\n",
              "        async function convertToInteractive(key) {\n",
              "          const element = document.querySelector('#df-ccd6a2e3-951c-490d-aa33-aa21f9562c53');\n",
              "          const dataTable =\n",
              "            await google.colab.kernel.invokeFunction('convertToInteractive',\n",
              "                                                     [key], {});\n",
              "          if (!dataTable) return;\n",
              "\n",
              "          const docLinkHtml = 'Like what you see? Visit the ' +\n",
              "            '<a target=\"_blank\" href=https://colab.research.google.com/notebooks/data_table.ipynb>data table notebook</a>'\n",
              "            + ' to learn more about interactive tables.';\n",
              "          element.innerHTML = '';\n",
              "          dataTable['output_type'] = 'display_data';\n",
              "          await google.colab.output.renderOutput(dataTable, element);\n",
              "          const docLink = document.createElement('div');\n",
              "          docLink.innerHTML = docLinkHtml;\n",
              "          element.appendChild(docLink);\n",
              "        }\n",
              "      </script>\n",
              "    </div>\n",
              "  </div>\n",
              "  "
            ]
          },
          "metadata": {},
          "execution_count": 24
        }
      ],
      "source": [
        "port_call_out_encoded.head()"
      ]
    },
    {
      "cell_type": "code",
      "execution_count": 25,
      "metadata": {
        "colab": {
          "base_uri": "https://localhost:8080/",
          "height": 0
        },
        "id": "5ny54eZfj8Gk",
        "outputId": "4efad3a1-78bd-4ad0-a41e-26a6f8bb78c2"
      },
      "outputs": [
        {
          "output_type": "execute_result",
          "data": {
            "text/plain": [
              "(20400, 29)"
            ]
          },
          "metadata": {},
          "execution_count": 25
        }
      ],
      "source": [
        "port_call_out_encoded.shape"
      ]
    },
    {
      "cell_type": "markdown",
      "metadata": {
        "id": "VEhtpstMP4Ws"
      },
      "source": [
        "* How can we extract train and test dataset from the provided dataset? (5 marks?)"
      ]
    },
    {
      "cell_type": "code",
      "execution_count": 26,
      "metadata": {
        "id": "438Q8t-ySSfz"
      },
      "outputs": [],
      "source": [
        "# Train a linear regression model\n",
        "X = port_call_out_encoded.drop('hours_in_port', axis=1)  # Features\n",
        "y = port_call_out_encoded['hours_in_port']  # Target variable"
      ]
    },
    {
      "cell_type": "code",
      "execution_count": 27,
      "metadata": {
        "colab": {
          "base_uri": "https://localhost:8080/",
          "height": 0
        },
        "id": "WWx2A7HER-8d",
        "outputId": "2754581a-71f1-420d-be1a-dd592b5fd280"
      },
      "outputs": [
        {
          "output_type": "stream",
          "name": "stdout",
          "text": [
            "X_train shape: (16320, 28)\n",
            "y_train shape: (16320,)\n",
            "X_test shape: (4080, 28)\n",
            "y_test shape: (4080,)\n"
          ]
        }
      ],
      "source": [
        "from sklearn.model_selection import train_test_split\n",
        "\n",
        "# Splitting the data into training and testing sets\n",
        "X_train, X_test, y_train, y_test = train_test_split(X, y, test_size=0.2, random_state=42)\n",
        "\n",
        "# Print the shape of the training and testing sets\n",
        "print(\"X_train shape:\", X_train.shape)\n",
        "print(\"y_train shape:\", y_train.shape)\n",
        "print(\"X_test shape:\", X_test.shape)\n",
        "print(\"y_test shape:\", y_test.shape)"
      ]
    },
    {
      "cell_type": "markdown",
      "source": [
        "* Can we\n",
        "train a ML model to predict hours_in_port from the provided dataset? (20 marks?)"
      ],
      "metadata": {
        "id": "jfL-ZKXGbOg1"
      }
    },
    {
      "cell_type": "code",
      "execution_count": 28,
      "metadata": {
        "id": "4x3ZtiKIlAVR"
      },
      "outputs": [],
      "source": [
        "from sklearn.linear_model import LinearRegression, Ridge, Lasso\n",
        "from sklearn.ensemble import RandomForestRegressor\n",
        "from sklearn.model_selection import train_test_split\n",
        "from sklearn.metrics import mean_squared_error, r2_score\n",
        "import numpy as np"
      ]
    },
    {
      "cell_type": "code",
      "execution_count": 29,
      "metadata": {
        "colab": {
          "base_uri": "https://localhost:8080/",
          "height": 0
        },
        "id": "aZVFOvQTM9C3",
        "outputId": "5520727c-f29f-4ebd-92f3-64d154d106c1"
      },
      "outputs": [
        {
          "output_type": "stream",
          "name": "stderr",
          "text": [
            "/usr/local/lib/python3.10/dist-packages/sklearn/linear_model/_ridge.py:216: LinAlgWarning: Ill-conditioned matrix (rcond=1.62377e-20): result may not be accurate.\n",
            "  return linalg.solve(A, Xy, assume_a=\"pos\", overwrite_a=True).T\n",
            "/usr/local/lib/python3.10/dist-packages/sklearn/linear_model/_coordinate_descent.py:631: ConvergenceWarning: Objective did not converge. You might want to increase the number of iterations, check the scale of the features or consider increasing regularisation. Duality gap: 3.931e+08, tolerance: 2.579e+05\n",
            "  model = cd_fast.enet_coordinate_descent(\n"
          ]
        },
        {
          "output_type": "stream",
          "name": "stdout",
          "text": [
            "Linear Regression MSE: 82683.47671918232\n",
            "Linear Regression R2 Score: 0.8067968547198925\n",
            "Linear Regression RMSE: 287.5473469173074\n",
            "\n",
            "\n",
            "Ridge Regression MSE: 82683.45544956102\n",
            "Ridge Regression R2 Score: 0.8067969044197587\n",
            "Ridge Regression RMSE: 287.54730993275007\n",
            "\n",
            "\n",
            "Lasso Regression MSE: 82849.342883282\n",
            "Lasso Regression R2 Score: 0.8064092819439139\n",
            "Lasso Regression RMSE: 287.83561781558933\n",
            "\n",
            "\n",
            "Random Forest Regression MSE: 406191.6349966476\n",
            "Random Forest Regression R2 Score: 0.05086838892425094\n",
            "Random Forest Regression RMSE: 637.3316522789745\n"
          ]
        }
      ],
      "source": [
        "# Linear Regression\n",
        "lr = LinearRegression()\n",
        "lr.fit(X_train, y_train)\n",
        "lr_predictions = lr.predict(X_test)\n",
        "lr_mse = mean_squared_error(y_test, lr_predictions)\n",
        "lr_r2 = r2_score(y_test, lr_predictions)\n",
        "lr_rmse = np.sqrt(lr_mse)\n",
        "\n",
        "# Ridge Regression\n",
        "ridge = Ridge(alpha=1.0)\n",
        "ridge.fit(X_train, y_train)\n",
        "ridge_predictions = ridge.predict(X_test)\n",
        "ridge_mse = mean_squared_error(y_test, ridge_predictions)\n",
        "ridge_r2 = r2_score(y_test, ridge_predictions)\n",
        "ridge_rmse = np.sqrt(ridge_mse)\n",
        "\n",
        "# Lasso Regression\n",
        "lasso = Lasso(alpha=1.0)\n",
        "lasso.fit(X_train, y_train)\n",
        "lasso_predictions = lasso.predict(X_test)\n",
        "lasso_mse = mean_squared_error(y_test, lasso_predictions)\n",
        "lasso_r2 = r2_score(y_test, lasso_predictions)\n",
        "lasso_rmse = np.sqrt(lasso_mse)\n",
        "\n",
        "# Random Forest Regression\n",
        "rf = RandomForestRegressor()\n",
        "rf.fit(X_train, y_train)\n",
        "rf_predictions = rf.predict(X_test)\n",
        "rf_mse = mean_squared_error(y_test, rf_predictions)\n",
        "rf_r2 = r2_score(y_test, rf_predictions)\n",
        "rf_rmse = np.sqrt(rf_mse)\n",
        "\n",
        "# Print the evaluation metrics for each model\n",
        "print(\"Linear Regression MSE:\", lr_mse)\n",
        "print(\"Linear Regression R2 Score:\", lr_r2)\n",
        "print(\"Linear Regression RMSE:\", lr_rmse)\n",
        "print(\"\\n\")\n",
        "print(\"Ridge Regression MSE:\", ridge_mse)\n",
        "print(\"Ridge Regression R2 Score:\", ridge_r2)\n",
        "print(\"Ridge Regression RMSE:\", ridge_rmse)\n",
        "print(\"\\n\")\n",
        "print(\"Lasso Regression MSE:\", lasso_mse)\n",
        "print(\"Lasso Regression R2 Score:\", lasso_r2)\n",
        "print(\"Lasso Regression RMSE:\", lasso_rmse)\n",
        "print(\"\\n\")\n",
        "print(\"Random Forest Regression MSE:\", rf_mse)\n",
        "print(\"Random Forest Regression R2 Score:\", rf_r2)\n",
        "print(\"Random Forest Regression RMSE:\", rf_rmse)"
      ]
    },
    {
      "cell_type": "markdown",
      "source": [
        "* Which\n",
        "features could be useful in this prediction? (5 marks?)"
      ],
      "metadata": {
        "id": "gjnZk-iLbIT-"
      }
    },
    {
      "cell_type": "code",
      "source": [
        "# Get the coefficients\n",
        "ridge_coefficients = ridge.coef_\n",
        "\n",
        "# Create a DataFrame to store the coefficients\n",
        "ridge_importance_df = pd.DataFrame({'Feature': X.columns, 'Coefficient': ridge_coefficients})\n",
        "\n",
        "# Sort the DataFrame by absolute coefficient value in descending order\n",
        "ridge_importance_df['Absolute Coefficient'] = abs(ridge_importance_df['Coefficient'])\n",
        "ridge_importance_df = ridge_importance_df.sort_values('Absolute Coefficient', ascending=False)\n",
        "\n",
        "# Print the feature importances\n",
        "print(ridge_importance_df)"
      ],
      "metadata": {
        "colab": {
          "base_uri": "https://localhost:8080/",
          "height": 0
        },
        "id": "lFEc3VqzaqmP",
        "outputId": "b667e7fe-d3f7-4658-f3bb-e1aa227066be"
      },
      "execution_count": 35,
      "outputs": [
        {
          "output_type": "stream",
          "name": "stdout",
          "text": [
            "                      Feature   Coefficient  Absolute Coefficient\n",
            "7                     breadth  1.365982e+01          1.365982e+01\n",
            "9         ship_status_encoded -5.732801e+00          5.732801e+00\n",
            "19                ship_status -5.732801e+00          5.732801e+00\n",
            "6                     draught  3.424944e+00          3.424944e+00\n",
            "5          length_overall_loa -1.980878e+00          1.980878e+00\n",
            "27                     status  1.974803e+00          1.974803e+00\n",
            "17             status_encoded  1.974803e+00          1.974803e+00\n",
            "11          flag_name_encoded  8.044432e-01          8.044432e-01\n",
            "21                  flag_name  8.044432e-01          8.044432e-01\n",
            "2                    latitude -5.302159e-01          5.302159e-01\n",
            "23                   departed  4.967434e-01          4.967434e-01\n",
            "13           departed_encoded  4.967094e-01          4.967094e-01\n",
            "22                    entered -4.952723e-01          4.952723e-01\n",
            "12            entered_encoded -4.951686e-01          4.951686e-01\n",
            "15  port_country_name_encoded  4.003097e-01          4.003097e-01\n",
            "25          port_country_name  4.003097e-01          4.003097e-01\n",
            "3                   longitude  2.373782e-01          2.373782e-01\n",
            "20                  ship_type -1.772095e-01          1.772095e-01\n",
            "10          ship_type_encoded -1.772095e-01          1.772095e-01\n",
            "8           ship_name_encoded  1.276215e-01          1.276215e-01\n",
            "18                  ship_name  1.276215e-01          1.276215e-01\n",
            "26                  port_code -4.626747e-02          4.626747e-02\n",
            "16          port_code_encoded -4.626711e-02          4.626711e-02\n",
            "24                  port_name -3.403340e-03          3.403340e-03\n",
            "14          port_name_encoded -3.403017e-03          3.403017e-03\n",
            "4               gross_tonnage  1.558401e-03          1.558401e-03\n",
            "0                  imo_number -6.484415e-06          6.484415e-06\n",
            "1                        mmsi -1.066438e-07          1.066438e-07\n"
          ]
        }
      ]
    },
    {
      "cell_type": "code",
      "source": [
        "# Get the feature importances\n",
        "feature_importances = rf.feature_importances_\n",
        "\n",
        "# Create a DataFrame to store the feature importances\n",
        "importance_df = pd.DataFrame({'Feature': X.columns, 'Importance': feature_importances})\n",
        "\n",
        "# Sort the DataFrame by importance in descending order\n",
        "importance_df = importance_df.sort_values('Importance', ascending=False)\n",
        "\n",
        "# Print the feature importances\n",
        "print(importance_df)"
      ],
      "metadata": {
        "colab": {
          "base_uri": "https://localhost:8080/",
          "height": 0
        },
        "id": "hlk5Udwja6r8",
        "outputId": "9d719633-7ecb-48e7-ecfb-f8a205ede612"
      },
      "execution_count": 37,
      "outputs": [
        {
          "output_type": "stream",
          "name": "stdout",
          "text": [
            "                      Feature  Importance\n",
            "2                    latitude    0.142583\n",
            "3                   longitude    0.117605\n",
            "12            entered_encoded    0.100973\n",
            "22                    entered    0.100034\n",
            "1                        mmsi    0.079267\n",
            "13           departed_encoded    0.073530\n",
            "24                  port_name    0.066953\n",
            "23                   departed    0.064370\n",
            "14          port_name_encoded    0.052750\n",
            "20                  ship_type    0.028478\n",
            "10          ship_type_encoded    0.020560\n",
            "8           ship_name_encoded    0.016125\n",
            "26                  port_code    0.015700\n",
            "18                  ship_name    0.014802\n",
            "7                     breadth    0.014791\n",
            "16          port_code_encoded    0.012884\n",
            "0                  imo_number    0.012879\n",
            "27                     status    0.009886\n",
            "6                     draught    0.008249\n",
            "15  port_country_name_encoded    0.007912\n",
            "5          length_overall_loa    0.007336\n",
            "17             status_encoded    0.006648\n",
            "19                ship_status    0.006047\n",
            "25          port_country_name    0.005152\n",
            "9         ship_status_encoded    0.004875\n",
            "4               gross_tonnage    0.004351\n",
            "11          flag_name_encoded    0.003203\n",
            "21                  flag_name    0.002055\n"
          ]
        }
      ]
    },
    {
      "cell_type": "markdown",
      "source": [
        "How we can cluster/group ships ports in following bins:\n",
        "1. Hours_in_port < 6 hours\n",
        "2. Hours_in_port in between 6 and 12 hours\n",
        "3. Hours_in_port in between 12 and 24 hours\n",
        "4. Hours_in_port > 24 hours"
      ],
      "metadata": {
        "id": "yuQ7fz8uYMzL"
      }
    },
    {
      "cell_type": "code",
      "execution_count": 31,
      "metadata": {
        "id": "R-4M0e_8M8_j",
        "colab": {
          "base_uri": "https://localhost:8080/",
          "height": 0
        },
        "outputId": "323f6e60-4664-4bc7-b2f7-aa41c5d96426"
      },
      "outputs": [
        {
          "output_type": "stream",
          "name": "stderr",
          "text": [
            "/usr/local/lib/python3.10/dist-packages/sklearn/cluster/_kmeans.py:870: FutureWarning: The default value of `n_init` will change from 10 to 'auto' in 1.4. Set the value of `n_init` explicitly to suppress the warning\n",
            "  warnings.warn(\n"
          ]
        },
        {
          "output_type": "stream",
          "name": "stdout",
          "text": [
            "Hours_in_port < 6 hours                     20195\n",
            "Hours_in_port > 24 hours                      163\n",
            "Hours_in_port in between 6 and 12 hours        34\n",
            "Hours_in_port in between 12 and 24 hours        8\n",
            "Name: Cluster, dtype: int64\n"
          ]
        }
      ],
      "source": [
        "import pandas as pd\n",
        "from sklearn.cluster import KMeans\n",
        "\n",
        "\n",
        "# Extract the 'Hours_in_port' column\n",
        "hours_in_port = port_call_out_encoded['hours_in_port'].values.reshape(-1, 1)\n",
        "\n",
        "# Define the number of clusters\n",
        "num_clusters = 4\n",
        "\n",
        "# Create an instance of KMeans clustering algorithm\n",
        "kmeans = KMeans(n_clusters=num_clusters)\n",
        "\n",
        "# Fit the data to the KMeans model\n",
        "kmeans.fit(hours_in_port)\n",
        "\n",
        "# Get the cluster labels for each data point\n",
        "labels = kmeans.labels_\n",
        "\n",
        "# Add the cluster labels to the dataset\n",
        "port_call_out_encoded['Cluster'] = labels\n",
        "\n",
        "# Map the cluster labels to the corresponding bins\n",
        "port_call_out_encoded['Cluster'] = port_call_out_encoded['Cluster'].map({\n",
        "    0: 'Hours_in_port < 6 hours',\n",
        "    1: 'Hours_in_port in between 6 and 12 hours',\n",
        "    2: 'Hours_in_port in between 12 and 24 hours',\n",
        "    3: 'Hours_in_port > 24 hours'\n",
        "})\n",
        "\n",
        "# Print the clusters/groups\n",
        "print(port_call_out_encoded['Cluster'].value_counts())\n"
      ]
    },
    {
      "cell_type": "code",
      "execution_count": 33,
      "metadata": {
        "id": "9QBKGGJdM88V",
        "colab": {
          "base_uri": "https://localhost:8080/",
          "height": 472
        },
        "outputId": "d149c5db-27a0-4735-cab4-5154a057a3d5"
      },
      "outputs": [
        {
          "output_type": "display_data",
          "data": {
            "text/plain": [
              "<Figure size 640x480 with 1 Axes>"
            ],
            "image/png": "[encoded data removed]"
          },
          "metadata": {}
        }
      ],
      "source": [
        "# Visualize the clusters\n",
        "plt.scatter(port_call_out_encoded['hours_in_port'], port_call_out_encoded['Cluster'], c=labels, cmap='viridis')\n",
        "plt.xlabel('Hours_in_port')\n",
        "plt.ylabel('Another_variable')\n",
        "plt.title('Clustering of Ship Ports')\n",
        "plt.show()"
      ]
    },
    {
      "cell_type": "markdown",
      "source": [
        "## Position Data"
      ],
      "metadata": {
        "id": "7kwtPt45bmZt"
      }
    },
    {
      "cell_type": "markdown",
      "source": [
        "* Find the interactions within the dataset. Explain how you work on the question and how you get the\n",
        "result. (70%)"
      ],
      "metadata": {
        "id": "NluZu9nwbgji"
      }
    },
    {
      "cell_type": "code",
      "execution_count": 38,
      "metadata": {
        "id": "kQW1KSllM85e"
      },
      "outputs": [],
      "source": [
        "import pandas as pd\n",
        "\n",
        "# Load the dataset\n",
        "df = pd.read_csv(\"ships-near-gb-202304.csv\")\n"
      ]
    },
    {
      "cell_type": "code",
      "execution_count": 40,
      "metadata": {
        "id": "2GnYGNYKM82f",
        "colab": {
          "base_uri": "https://localhost:8080/",
          "height": 206
        },
        "outputId": "897e0bf1-bbd7-493b-d871-aebb3618c3cf"
      },
      "outputs": [
        {
          "output_type": "execute_result",
          "data": {
            "text/plain": [
              "        MMSI NavigationalStatus   timestamp   latitude  longitude      speed  \\\n",
              "0  232013113        Not defined  1681257702  59.902270  -1.441542  10.114286   \n",
              "1  232013113        Not defined  1681258260  59.875649  -1.416785  10.650000   \n",
              "2  232013113        Not defined  1681258892  59.850300  -1.383423  10.760000   \n",
              "3  232013113        Not defined  1681259458  59.832214  -1.345992  10.971429   \n",
              "4  232013113        Not defined  1681260105  59.821868  -1.287544  10.833333   \n",
              "\n",
              "       course  \n",
              "0  157.114286  \n",
              "1  150.983330  \n",
              "2  144.079999  \n",
              "3  119.328573  \n",
              "4  100.983334  "
            ],
            "text/html": [
              "\n",
              "  <div id=\"df-13f8651c-a3ed-42f9-a8e3-17d3febd29f0\">\n",
              "    <div class=\"colab-df-container\">\n",
              "      <div>\n",
              "<style scoped>\n",
              "    .dataframe tbody tr th:only-of-type {\n",
              "        vertical-align: middle;\n",
              "    }\n",
              "\n",
              "    .dataframe tbody tr th {\n",
              "        vertical-align: top;\n",
              "    }\n",
              "\n",
              "    .dataframe thead th {\n",
              "        text-align: right;\n",
              "    }\n",
              "</style>\n",
              "<table border=\"1\" class=\"dataframe\">\n",
              "  <thead>\n",
              "    <tr style=\"text-align: right;\">\n",
              "      <th></th>\n",
              "      <th>MMSI</th>\n",
              "      <th>NavigationalStatus</th>\n",
              "      <th>timestamp</th>\n",
              "      <th>latitude</th>\n",
              "      <th>longitude</th>\n",
              "      <th>speed</th>\n",
              "      <th>course</th>\n",
              "    </tr>\n",
              "  </thead>\n",
              "  <tbody>\n",
              "    <tr>\n",
              "      <th>0</th>\n",
              "      <td>232013113</td>\n",
              "      <td>Not defined</td>\n",
              "      <td>1681257702</td>\n",
              "      <td>59.902270</td>\n",
              "      <td>-1.441542</td>\n",
              "      <td>10.114286</td>\n",
              "      <td>157.114286</td>\n",
              "    </tr>\n",
              "    <tr>\n",
              "      <th>1</th>\n",
              "      <td>232013113</td>\n",
              "      <td>Not defined</td>\n",
              "      <td>1681258260</td>\n",
              "      <td>59.875649</td>\n",
              "      <td>-1.416785</td>\n",
              "      <td>10.650000</td>\n",
              "      <td>150.983330</td>\n",
              "    </tr>\n",
              "    <tr>\n",
              "      <th>2</th>\n",
              "      <td>232013113</td>\n",
              "      <td>Not defined</td>\n",
              "      <td>1681258892</td>\n",
              "      <td>59.850300</td>\n",
              "      <td>-1.383423</td>\n",
              "      <td>10.760000</td>\n",
              "      <td>144.079999</td>\n",
              "    </tr>\n",
              "    <tr>\n",
              "      <th>3</th>\n",
              "      <td>232013113</td>\n",
              "      <td>Not defined</td>\n",
              "      <td>1681259458</td>\n",
              "      <td>59.832214</td>\n",
              "      <td>-1.345992</td>\n",
              "      <td>10.971429</td>\n",
              "      <td>119.328573</td>\n",
              "    </tr>\n",
              "    <tr>\n",
              "      <th>4</th>\n",
              "      <td>232013113</td>\n",
              "      <td>Not defined</td>\n",
              "      <td>1681260105</td>\n",
              "      <td>59.821868</td>\n",
              "      <td>-1.287544</td>\n",
              "      <td>10.833333</td>\n",
              "      <td>100.983334</td>\n",
              "    </tr>\n",
              "  </tbody>\n",
              "</table>\n",
              "</div>\n",
              "      <button class=\"colab-df-convert\" onclick=\"convertToInteractive('df-13f8651c-a3ed-42f9-a8e3-17d3febd29f0')\"\n",
              "              title=\"Convert this dataframe to an interactive table.\"\n",
              "              style=\"display:none;\">\n",
              "        \n",
              "  <svg xmlns=\"http://www.w3.org/2000/svg\" height=\"24px\"viewBox=\"0 0 24 24\"\n",
              "       width=\"24px\">\n",
              "    <path d=\"M0 0h24v24H0V0z\" fill=\"none\"/>\n",
              "    <path d=\"M18.56 5.44l.94 2.06.94-2.06 2.06-.94-2.06-.94-.94-2.06-.94 2.06-2.06.94zm-11 1L8.5 8.5l.94-2.06 2.06-.94-2.06-.94L8.5 2.5l-.94 2.06-2.06.94zm10 10l.94 2.06.94-2.06 2.06-.94-2.06-.94-.94-2.06-.94 2.06-2.06.94z\"/><path d=\"M17.41 7.96l-1.37-1.37c-.4-.4-.92-.59-1.43-.59-.52 0-1.04.2-1.43.59L10.3 9.45l-7.72 7.72c-.78.78-.78 2.05 0 2.83L4 21.41c.39.39.9.59 1.41.59.51 0 1.02-.2 1.41-.59l7.78-7.78 2.81-2.81c.8-.78.8-2.07 0-2.86zM5.41 20L4 18.59l7.72-7.72 1.47 1.35L5.41 20z\"/>\n",
              "  </svg>\n",
              "      </button>\n",
              "      \n",
              "  <style>\n",
              "    .colab-df-container {\n",
              "      display:flex;\n",
              "      flex-wrap:wrap;\n",
              "      gap: 12px;\n",
              "    }\n",
              "\n",
              "    .colab-df-convert {\n",
              "      background-color: #E8F0FE;\n",
              "      border: none;\n",
              "      border-radius: 50%;\n",
              "      cursor: pointer;\n",
              "      display: none;\n",
              "      fill: #1967D2;\n",
              "      height: 32px;\n",
              "      padding: 0 0 0 0;\n",
              "      width: 32px;\n",
              "    }\n",
              "\n",
              "    .colab-df-convert:hover {\n",
              "      background-color: #E2EBFA;\n",
              "      box-shadow: 0px 1px 2px rgba(60, 64, 67, 0.3), 0px 1px 3px 1px rgba(60, 64, 67, 0.15);\n",
              "      fill: #174EA6;\n",
              "    }\n",
              "\n",
              "    [theme=dark] .colab-df-convert {\n",
              "      background-color: #3B4455;\n",
              "      fill: #D2E3FC;\n",
              "    }\n",
              "\n",
              "    [theme=dark] .colab-df-convert:hover {\n",
              "      background-color: #434B5C;\n",
              "      box-shadow: 0px 1px 3px 1px rgba(0, 0, 0, 0.15);\n",
              "      filter: drop-shadow(0px 1px 2px rgba(0, 0, 0, 0.3));\n",
              "      fill: #FFFFFF;\n",
              "    }\n",
              "  </style>\n",
              "\n",
              "      <script>\n",
              "        const buttonEl =\n",
              "          document.querySelector('#df-13f8651c-a3ed-42f9-a8e3-17d3febd29f0 button.colab-df-convert');\n",
              "        buttonEl.style.display =\n",
              "          google.colab.kernel.accessAllowed ? 'block' : 'none';\n",
              "\n",
              "        async function convertToInteractive(key) {\n",
              "          const element = document.querySelector('#df-13f8651c-a3ed-42f9-a8e3-17d3febd29f0');\n",
              "          const dataTable =\n",
              "            await google.colab.kernel.invokeFunction('convertToInteractive',\n",
              "                                                     [key], {});\n",
              "          if (!dataTable) return;\n",
              "\n",
              "          const docLinkHtml = 'Like what you see? Visit the ' +\n",
              "            '<a target=\"_blank\" href=https://colab.research.google.com/notebooks/data_table.ipynb>data table notebook</a>'\n",
              "            + ' to learn more about interactive tables.';\n",
              "          element.innerHTML = '';\n",
              "          dataTable['output_type'] = 'display_data';\n",
              "          await google.colab.output.renderOutput(dataTable, element);\n",
              "          const docLink = document.createElement('div');\n",
              "          docLink.innerHTML = docLinkHtml;\n",
              "          element.appendChild(docLink);\n",
              "        }\n",
              "      </script>\n",
              "    </div>\n",
              "  </div>\n",
              "  "
            ]
          },
          "metadata": {},
          "execution_count": 40
        }
      ],
      "source": [
        "# Display the first few record\n",
        "df.head()"
      ]
    },
    {
      "cell_type": "code",
      "execution_count": 41,
      "metadata": {
        "id": "H0dUbpyeM8zg",
        "colab": {
          "base_uri": "https://localhost:8080/",
          "height": 0
        },
        "outputId": "77a35c9a-d88c-434c-d079-168f9b06c0dc"
      },
      "outputs": [
        {
          "output_type": "stream",
          "name": "stdout",
          "text": [
            "<class 'pandas.core.frame.DataFrame'>\n",
            "RangeIndex: 2502 entries, 0 to 2501\n",
            "Data columns (total 7 columns):\n",
            " #   Column              Non-Null Count  Dtype  \n",
            "---  ------              --------------  -----  \n",
            " 0   MMSI                2502 non-null   int64  \n",
            " 1   NavigationalStatus  2502 non-null   object \n",
            " 2   timestamp           2502 non-null   int64  \n",
            " 3   latitude            2502 non-null   float64\n",
            " 4   longitude           2502 non-null   float64\n",
            " 5   speed               2502 non-null   float64\n",
            " 6   course              2502 non-null   float64\n",
            "dtypes: float64(4), int64(2), object(1)\n",
            "memory usage: 137.0+ KB\n"
          ]
        }
      ],
      "source": [
        "df.info()"
      ]
    },
    {
      "cell_type": "code",
      "execution_count": 42,
      "metadata": {
        "id": "HXA4WCNQM8wa",
        "colab": {
          "base_uri": "https://localhost:8080/",
          "height": 0
        },
        "outputId": "b80f40a7-b582-4d22-d110-ef7bf7cd362d"
      },
      "outputs": [
        {
          "output_type": "execute_result",
          "data": {
            "text/plain": [
              "MMSI                  0\n",
              "NavigationalStatus    0\n",
              "timestamp             0\n",
              "latitude              0\n",
              "longitude             0\n",
              "speed                 0\n",
              "course                0\n",
              "dtype: int64"
            ]
          },
          "metadata": {},
          "execution_count": 42
        }
      ],
      "source": [
        "df.isnull().sum()"
      ]
    },
    {
      "cell_type": "markdown",
      "source": [
        "One way to identify interactions is by defining a distance threshold and time window. For example, if two ships' positions are within a certain distance of each other and their timestamps are close, it can be considered an interaction.\n",
        "\n",
        "Here's a general outline of the steps to identify ship-to-ship interactions:\n",
        "\n",
        "Iterate over each ship in the dataset.\n",
        "For each ship, iterate over the remaining ships.\n",
        "Calculate the distance between the two ships' latitude and longitude coordinates using a suitable distance metric (e.g., Haversine formula).\n",
        "Check if the distance is below the defined threshold.\n",
        "Check if the timestamps of the two ships' positions are within the defined time window.\n",
        "If both conditions are met, consider it as a ship-to-ship interaction.\n",
        "\n",
        "Once the ship-to-ship interactions are identified, It can  be analyzed the data further to gain insights or perform additional tasks as required by the analysis."
      ],
      "metadata": {
        "id": "lNKja3-ZcqqP"
      }
    },
    {
      "cell_type": "code",
      "source": [
        "import pandas as pd\n",
        "from geopy.distance import geodesic\n",
        "from datetime import timedelta\n",
        "\n",
        "# Load the dataset\n",
        "df = pd.read_csv(\"ships-near-gb-202304.csv\")\n",
        "\n",
        "# Convert timestamp column to datetime\n",
        "df['timestamp'] = pd.to_datetime(df['timestamp'])\n",
        "\n",
        "# Define distance threshold (in kilometers) and time window (in minutes)\n",
        "distance_threshold = 5  # Example distance threshold\n",
        "time_window = 30  # Example time window\n",
        "\n",
        "# Create a DataFrame to store ship-to-ship interactions\n",
        "interactions_df = pd.DataFrame(columns=['Ship1', 'Ship2', 'InteractionTime', 'Distance'])\n",
        "\n",
        "# Iterate over each ship\n",
        "for ship_id, ship_data in df.groupby('MMSI'):\n",
        "    # Sort ship data by timestamp\n",
        "    ship_data = ship_data.sort_values('timestamp')\n",
        "\n",
        "    # Iterate over the remaining ships\n",
        "    for other_ship_id, other_ship_data in df.groupby('MMSI'):\n",
        "        if other_ship_id != ship_id:\n",
        "            # Iterate over ship positions\n",
        "            for _, ship_position in ship_data.iterrows():\n",
        "                # Get the most recent position of the other ship\n",
        "                other_ship_position = other_ship_data.iloc[-1]\n",
        "\n",
        "                # Calculate distance between ship positions\n",
        "                distance = calculate_distance((ship_position['latitude'], ship_position['longitude']),\n",
        "                                                  (other_ship_position['latitude'], other_ship_position['longitude']))\n",
        "\n",
        "                # Check if distance is below threshold\n",
        "                if distance <= distance_threshold:\n",
        "                    # Store ship-to-ship interaction\n",
        "                    interaction = {\n",
        "                        'Ship1': ship_id,\n",
        "                        'Ship2': other_ship_id,\n",
        "                        'InteractionTime': ship_position['timestamp'],\n",
        "                        'Distance': distance\n",
        "                    }\n",
        "                    interactions_df = interactions_df.append(interaction, ignore_index=True)\n"
      ],
      "metadata": {
        "colab": {
          "base_uri": "https://localhost:8080/",
          "height": 0
        },
        "id": "MejE5jlqgkp9",
        "outputId": "38a1e9a1-425c-42bd-e48a-f373d2de7daa"
      },
      "execution_count": 45,
      "outputs": [
        {
          "output_type": "stream",
          "name": "stderr",
          "text": [
            "<ipython-input-45-bd07bccb192b>:44: FutureWarning: The frame.append method is deprecated and will be removed from pandas in a future version. Use pandas.concat instead.\n",
            "  interactions_df = interactions_df.append(interaction, ignore_index=True)\n",
            "<ipython-input-45-bd07bccb192b>:44: FutureWarning: The frame.append method is deprecated and will be removed from pandas in a future version. Use pandas.concat instead.\n",
            "  interactions_df = interactions_df.append(interaction, ignore_index=True)\n",
            "<ipython-input-45-bd07bccb192b>:44: FutureWarning: The frame.append method is deprecated and will be removed from pandas in a future version. Use pandas.concat instead.\n",
            "  interactions_df = interactions_df.append(interaction, ignore_index=True)\n",
            "<ipython-input-45-bd07bccb192b>:44: FutureWarning: The frame.append method is deprecated and will be removed from pandas in a future version. Use pandas.concat instead.\n",
            "  interactions_df = interactions_df.append(interaction, ignore_index=True)\n",
            "<ipython-input-45-bd07bccb192b>:44: FutureWarning: The frame.append method is deprecated and will be removed from pandas in a future version. Use pandas.concat instead.\n",
            "  interactions_df = interactions_df.append(interaction, ignore_index=True)\n",
            "<ipython-input-45-bd07bccb192b>:44: FutureWarning: The frame.append method is deprecated and will be removed from pandas in a future version. Use pandas.concat instead.\n",
            "  interactions_df = interactions_df.append(interaction, ignore_index=True)\n",
            "<ipython-input-45-bd07bccb192b>:44: FutureWarning: The frame.append method is deprecated and will be removed from pandas in a future version. Use pandas.concat instead.\n",
            "  interactions_df = interactions_df.append(interaction, ignore_index=True)\n",
            "<ipython-input-45-bd07bccb192b>:44: FutureWarning: The frame.append method is deprecated and will be removed from pandas in a future version. Use pandas.concat instead.\n",
            "  interactions_df = interactions_df.append(interaction, ignore_index=True)\n",
            "<ipython-input-45-bd07bccb192b>:44: FutureWarning: The frame.append method is deprecated and will be removed from pandas in a future version. Use pandas.concat instead.\n",
            "  interactions_df = interactions_df.append(interaction, ignore_index=True)\n",
            "<ipython-input-45-bd07bccb192b>:44: FutureWarning: The frame.append method is deprecated and will be removed from pandas in a future version. Use pandas.concat instead.\n",
            "  interactions_df = interactions_df.append(interaction, ignore_index=True)\n",
            "<ipython-input-45-bd07bccb192b>:44: FutureWarning: The frame.append method is deprecated and will be removed from pandas in a future version. Use pandas.concat instead.\n",
            "  interactions_df = interactions_df.append(interaction, ignore_index=True)\n",
            "<ipython-input-45-bd07bccb192b>:44: FutureWarning: The frame.append method is deprecated and will be removed from pandas in a future version. Use pandas.concat instead.\n",
            "  interactions_df = interactions_df.append(interaction, ignore_index=True)\n",
            "<ipython-input-45-bd07bccb192b>:44: FutureWarning: The frame.append method is deprecated and will be removed from pandas in a future version. Use pandas.concat instead.\n",
            "  interactions_df = interactions_df.append(interaction, ignore_index=True)\n",
            "<ipython-input-45-bd07bccb192b>:44: FutureWarning: The frame.append method is deprecated and will be removed from pandas in a future version. Use pandas.concat instead.\n",
            "  interactions_df = interactions_df.append(interaction, ignore_index=True)\n",
            "<ipython-input-45-bd07bccb192b>:44: FutureWarning: The frame.append method is deprecated and will be removed from pandas in a future version. Use pandas.concat instead.\n",
            "  interactions_df = interactions_df.append(interaction, ignore_index=True)\n",
            "<ipython-input-45-bd07bccb192b>:44: FutureWarning: The frame.append method is deprecated and will be removed from pandas in a future version. Use pandas.concat instead.\n",
            "  interactions_df = interactions_df.append(interaction, ignore_index=True)\n",
            "<ipython-input-45-bd07bccb192b>:44: FutureWarning: The frame.append method is deprecated and will be removed from pandas in a future version. Use pandas.concat instead.\n",
            "  interactions_df = interactions_df.append(interaction, ignore_index=True)\n",
            "<ipython-input-45-bd07bccb192b>:44: FutureWarning: The frame.append method is deprecated and will be removed from pandas in a future version. Use pandas.concat instead.\n",
            "  interactions_df = interactions_df.append(interaction, ignore_index=True)\n",
            "<ipython-input-45-bd07bccb192b>:44: FutureWarning: The frame.append method is deprecated and will be removed from pandas in a future version. Use pandas.concat instead.\n",
            "  interactions_df = interactions_df.append(interaction, ignore_index=True)\n",
            "<ipython-input-45-bd07bccb192b>:44: FutureWarning: The frame.append method is deprecated and will be removed from pandas in a future version. Use pandas.concat instead.\n",
            "  interactions_df = interactions_df.append(interaction, ignore_index=True)\n",
            "<ipython-input-45-bd07bccb192b>:44: FutureWarning: The frame.append method is deprecated and will be removed from pandas in a future version. Use pandas.concat instead.\n",
            "  interactions_df = interactions_df.append(interaction, ignore_index=True)\n",
            "<ipython-input-45-bd07bccb192b>:44: FutureWarning: The frame.append method is deprecated and will be removed from pandas in a future version. Use pandas.concat instead.\n",
            "  interactions_df = interactions_df.append(interaction, ignore_index=True)\n",
            "<ipython-input-45-bd07bccb192b>:44: FutureWarning: The frame.append method is deprecated and will be removed from pandas in a future version. Use pandas.concat instead.\n",
            "  interactions_df = interactions_df.append(interaction, ignore_index=True)\n",
            "<ipython-input-45-bd07bccb192b>:44: FutureWarning: The frame.append method is deprecated and will be removed from pandas in a future version. Use pandas.concat instead.\n",
            "  interactions_df = interactions_df.append(interaction, ignore_index=True)\n",
            "<ipython-input-45-bd07bccb192b>:44: FutureWarning: The frame.append method is deprecated and will be removed from pandas in a future version. Use pandas.concat instead.\n",
            "  interactions_df = interactions_df.append(interaction, ignore_index=True)\n",
            "<ipython-input-45-bd07bccb192b>:44: FutureWarning: The frame.append method is deprecated and will be removed from pandas in a future version. Use pandas.concat instead.\n",
            "  interactions_df = interactions_df.append(interaction, ignore_index=True)\n",
            "<ipython-input-45-bd07bccb192b>:44: FutureWarning: The frame.append method is deprecated and will be removed from pandas in a future version. Use pandas.concat instead.\n",
            "  interactions_df = interactions_df.append(interaction, ignore_index=True)\n",
            "<ipython-input-45-bd07bccb192b>:44: FutureWarning: The frame.append method is deprecated and will be removed from pandas in a future version. Use pandas.concat instead.\n",
            "  interactions_df = interactions_df.append(interaction, ignore_index=True)\n",
            "<ipython-input-45-bd07bccb192b>:44: FutureWarning: The frame.append method is deprecated and will be removed from pandas in a future version. Use pandas.concat instead.\n",
            "  interactions_df = interactions_df.append(interaction, ignore_index=True)\n",
            "<ipython-input-45-bd07bccb192b>:44: FutureWarning: The frame.append method is deprecated and will be removed from pandas in a future version. Use pandas.concat instead.\n",
            "  interactions_df = interactions_df.append(interaction, ignore_index=True)\n",
            "<ipython-input-45-bd07bccb192b>:44: FutureWarning: The frame.append method is deprecated and will be removed from pandas in a future version. Use pandas.concat instead.\n",
            "  interactions_df = interactions_df.append(interaction, ignore_index=True)\n",
            "<ipython-input-45-bd07bccb192b>:44: FutureWarning: The frame.append method is deprecated and will be removed from pandas in a future version. Use pandas.concat instead.\n",
            "  interactions_df = interactions_df.append(interaction, ignore_index=True)\n",
            "<ipython-input-45-bd07bccb192b>:44: FutureWarning: The frame.append method is deprecated and will be removed from pandas in a future version. Use pandas.concat instead.\n",
            "  interactions_df = interactions_df.append(interaction, ignore_index=True)\n",
            "<ipython-input-45-bd07bccb192b>:44: FutureWarning: The frame.append method is deprecated and will be removed from pandas in a future version. Use pandas.concat instead.\n",
            "  interactions_df = interactions_df.append(interaction, ignore_index=True)\n",
            "<ipython-input-45-bd07bccb192b>:44: FutureWarning: The frame.append method is deprecated and will be removed from pandas in a future version. Use pandas.concat instead.\n",
            "  interactions_df = interactions_df.append(interaction, ignore_index=True)\n",
            "<ipython-input-45-bd07bccb192b>:44: FutureWarning: The frame.append method is deprecated and will be removed from pandas in a future version. Use pandas.concat instead.\n",
            "  interactions_df = interactions_df.append(interaction, ignore_index=True)\n",
            "<ipython-input-45-bd07bccb192b>:44: FutureWarning: The frame.append method is deprecated and will be removed from pandas in a future version. Use pandas.concat instead.\n",
            "  interactions_df = interactions_df.append(interaction, ignore_index=True)\n",
            "<ipython-input-45-bd07bccb192b>:44: FutureWarning: The frame.append method is deprecated and will be removed from pandas in a future version. Use pandas.concat instead.\n",
            "  interactions_df = interactions_df.append(interaction, ignore_index=True)\n",
            "<ipython-input-45-bd07bccb192b>:44: FutureWarning: The frame.append method is deprecated and will be removed from pandas in a future version. Use pandas.concat instead.\n",
            "  interactions_df = interactions_df.append(interaction, ignore_index=True)\n",
            "<ipython-input-45-bd07bccb192b>:44: FutureWarning: The frame.append method is deprecated and will be removed from pandas in a future version. Use pandas.concat instead.\n",
            "  interactions_df = interactions_df.append(interaction, ignore_index=True)\n",
            "<ipython-input-45-bd07bccb192b>:44: FutureWarning: The frame.append method is deprecated and will be removed from pandas in a future version. Use pandas.concat instead.\n",
            "  interactions_df = interactions_df.append(interaction, ignore_index=True)\n",
            "<ipython-input-45-bd07bccb192b>:44: FutureWarning: The frame.append method is deprecated and will be removed from pandas in a future version. Use pandas.concat instead.\n",
            "  interactions_df = interactions_df.append(interaction, ignore_index=True)\n",
            "<ipython-input-45-bd07bccb192b>:44: FutureWarning: The frame.append method is deprecated and will be removed from pandas in a future version. Use pandas.concat instead.\n",
            "  interactions_df = interactions_df.append(interaction, ignore_index=True)\n",
            "<ipython-input-45-bd07bccb192b>:44: FutureWarning: The frame.append method is deprecated and will be removed from pandas in a future version. Use pandas.concat instead.\n",
            "  interactions_df = interactions_df.append(interaction, ignore_index=True)\n",
            "<ipython-input-45-bd07bccb192b>:44: FutureWarning: The frame.append method is deprecated and will be removed from pandas in a future version. Use pandas.concat instead.\n",
            "  interactions_df = interactions_df.append(interaction, ignore_index=True)\n",
            "<ipython-input-45-bd07bccb192b>:44: FutureWarning: The frame.append method is deprecated and will be removed from pandas in a future version. Use pandas.concat instead.\n",
            "  interactions_df = interactions_df.append(interaction, ignore_index=True)\n",
            "<ipython-input-45-bd07bccb192b>:44: FutureWarning: The frame.append method is deprecated and will be removed from pandas in a future version. Use pandas.concat instead.\n",
            "  interactions_df = interactions_df.append(interaction, ignore_index=True)\n",
            "<ipython-input-45-bd07bccb192b>:44: FutureWarning: The frame.append method is deprecated and will be removed from pandas in a future version. Use pandas.concat instead.\n",
            "  interactions_df = interactions_df.append(interaction, ignore_index=True)\n",
            "<ipython-input-45-bd07bccb192b>:44: FutureWarning: The frame.append method is deprecated and will be removed from pandas in a future version. Use pandas.concat instead.\n",
            "  interactions_df = interactions_df.append(interaction, ignore_index=True)\n",
            "<ipython-input-45-bd07bccb192b>:44: FutureWarning: The frame.append method is deprecated and will be removed from pandas in a future version. Use pandas.concat instead.\n",
            "  interactions_df = interactions_df.append(interaction, ignore_index=True)\n",
            "<ipython-input-45-bd07bccb192b>:44: FutureWarning: The frame.append method is deprecated and will be removed from pandas in a future version. Use pandas.concat instead.\n",
            "  interactions_df = interactions_df.append(interaction, ignore_index=True)\n",
            "<ipython-input-45-bd07bccb192b>:44: FutureWarning: The frame.append method is deprecated and will be removed from pandas in a future version. Use pandas.concat instead.\n",
            "  interactions_df = interactions_df.append(interaction, ignore_index=True)\n",
            "<ipython-input-45-bd07bccb192b>:44: FutureWarning: The frame.append method is deprecated and will be removed from pandas in a future version. Use pandas.concat instead.\n",
            "  interactions_df = interactions_df.append(interaction, ignore_index=True)\n",
            "<ipython-input-45-bd07bccb192b>:44: FutureWarning: The frame.append method is deprecated and will be removed from pandas in a future version. Use pandas.concat instead.\n",
            "  interactions_df = interactions_df.append(interaction, ignore_index=True)\n",
            "<ipython-input-45-bd07bccb192b>:44: FutureWarning: The frame.append method is deprecated and will be removed from pandas in a future version. Use pandas.concat instead.\n",
            "  interactions_df = interactions_df.append(interaction, ignore_index=True)\n",
            "<ipython-input-45-bd07bccb192b>:44: FutureWarning: The frame.append method is deprecated and will be removed from pandas in a future version. Use pandas.concat instead.\n",
            "  interactions_df = interactions_df.append(interaction, ignore_index=True)\n",
            "<ipython-input-45-bd07bccb192b>:44: FutureWarning: The frame.append method is deprecated and will be removed from pandas in a future version. Use pandas.concat instead.\n",
            "  interactions_df = interactions_df.append(interaction, ignore_index=True)\n",
            "<ipython-input-45-bd07bccb192b>:44: FutureWarning: The frame.append method is deprecated and will be removed from pandas in a future version. Use pandas.concat instead.\n",
            "  interactions_df = interactions_df.append(interaction, ignore_index=True)\n",
            "<ipython-input-45-bd07bccb192b>:44: FutureWarning: The frame.append method is deprecated and will be removed from pandas in a future version. Use pandas.concat instead.\n",
            "  interactions_df = interactions_df.append(interaction, ignore_index=True)\n",
            "<ipython-input-45-bd07bccb192b>:44: FutureWarning: The frame.append method is deprecated and will be removed from pandas in a future version. Use pandas.concat instead.\n",
            "  interactions_df = interactions_df.append(interaction, ignore_index=True)\n",
            "<ipython-input-45-bd07bccb192b>:44: FutureWarning: The frame.append method is deprecated and will be removed from pandas in a future version. Use pandas.concat instead.\n",
            "  interactions_df = interactions_df.append(interaction, ignore_index=True)\n",
            "<ipython-input-45-bd07bccb192b>:44: FutureWarning: The frame.append method is deprecated and will be removed from pandas in a future version. Use pandas.concat instead.\n",
            "  interactions_df = interactions_df.append(interaction, ignore_index=True)\n",
            "<ipython-input-45-bd07bccb192b>:44: FutureWarning: The frame.append method is deprecated and will be removed from pandas in a future version. Use pandas.concat instead.\n",
            "  interactions_df = interactions_df.append(interaction, ignore_index=True)\n",
            "<ipython-input-45-bd07bccb192b>:44: FutureWarning: The frame.append method is deprecated and will be removed from pandas in a future version. Use pandas.concat instead.\n",
            "  interactions_df = interactions_df.append(interaction, ignore_index=True)\n",
            "<ipython-input-45-bd07bccb192b>:44: FutureWarning: The frame.append method is deprecated and will be removed from pandas in a future version. Use pandas.concat instead.\n",
            "  interactions_df = interactions_df.append(interaction, ignore_index=True)\n",
            "<ipython-input-45-bd07bccb192b>:44: FutureWarning: The frame.append method is deprecated and will be removed from pandas in a future version. Use pandas.concat instead.\n",
            "  interactions_df = interactions_df.append(interaction, ignore_index=True)\n",
            "<ipython-input-45-bd07bccb192b>:44: FutureWarning: The frame.append method is deprecated and will be removed from pandas in a future version. Use pandas.concat instead.\n",
            "  interactions_df = interactions_df.append(interaction, ignore_index=True)\n",
            "<ipython-input-45-bd07bccb192b>:44: FutureWarning: The frame.append method is deprecated and will be removed from pandas in a future version. Use pandas.concat instead.\n",
            "  interactions_df = interactions_df.append(interaction, ignore_index=True)\n",
            "<ipython-input-45-bd07bccb192b>:44: FutureWarning: The frame.append method is deprecated and will be removed from pandas in a future version. Use pandas.concat instead.\n",
            "  interactions_df = interactions_df.append(interaction, ignore_index=True)\n",
            "<ipython-input-45-bd07bccb192b>:44: FutureWarning: The frame.append method is deprecated and will be removed from pandas in a future version. Use pandas.concat instead.\n",
            "  interactions_df = interactions_df.append(interaction, ignore_index=True)\n",
            "<ipython-input-45-bd07bccb192b>:44: FutureWarning: The frame.append method is deprecated and will be removed from pandas in a future version. Use pandas.concat instead.\n",
            "  interactions_df = interactions_df.append(interaction, ignore_index=True)\n",
            "<ipython-input-45-bd07bccb192b>:44: FutureWarning: The frame.append method is deprecated and will be removed from pandas in a future version. Use pandas.concat instead.\n",
            "  interactions_df = interactions_df.append(interaction, ignore_index=True)\n",
            "<ipython-input-45-bd07bccb192b>:44: FutureWarning: The frame.append method is deprecated and will be removed from pandas in a future version. Use pandas.concat instead.\n",
            "  interactions_df = interactions_df.append(interaction, ignore_index=True)\n",
            "<ipython-input-45-bd07bccb192b>:44: FutureWarning: The frame.append method is deprecated and will be removed from pandas in a future version. Use pandas.concat instead.\n",
            "  interactions_df = interactions_df.append(interaction, ignore_index=True)\n",
            "<ipython-input-45-bd07bccb192b>:44: FutureWarning: The frame.append method is deprecated and will be removed from pandas in a future version. Use pandas.concat instead.\n",
            "  interactions_df = interactions_df.append(interaction, ignore_index=True)\n",
            "<ipython-input-45-bd07bccb192b>:44: FutureWarning: The frame.append method is deprecated and will be removed from pandas in a future version. Use pandas.concat instead.\n",
            "  interactions_df = interactions_df.append(interaction, ignore_index=True)\n",
            "<ipython-input-45-bd07bccb192b>:44: FutureWarning: The frame.append method is deprecated and will be removed from pandas in a future version. Use pandas.concat instead.\n",
            "  interactions_df = interactions_df.append(interaction, ignore_index=True)\n",
            "<ipython-input-45-bd07bccb192b>:44: FutureWarning: The frame.append method is deprecated and will be removed from pandas in a future version. Use pandas.concat instead.\n",
            "  interactions_df = interactions_df.append(interaction, ignore_index=True)\n",
            "<ipython-input-45-bd07bccb192b>:44: FutureWarning: The frame.append method is deprecated and will be removed from pandas in a future version. Use pandas.concat instead.\n",
            "  interactions_df = interactions_df.append(interaction, ignore_index=True)\n",
            "<ipython-input-45-bd07bccb192b>:44: FutureWarning: The frame.append method is deprecated and will be removed from pandas in a future version. Use pandas.concat instead.\n",
            "  interactions_df = interactions_df.append(interaction, ignore_index=True)\n",
            "<ipython-input-45-bd07bccb192b>:44: FutureWarning: The frame.append method is deprecated and will be removed from pandas in a future version. Use pandas.concat instead.\n",
            "  interactions_df = interactions_df.append(interaction, ignore_index=True)\n",
            "<ipython-input-45-bd07bccb192b>:44: FutureWarning: The frame.append method is deprecated and will be removed from pandas in a future version. Use pandas.concat instead.\n",
            "  interactions_df = interactions_df.append(interaction, ignore_index=True)\n",
            "<ipython-input-45-bd07bccb192b>:44: FutureWarning: The frame.append method is deprecated and will be removed from pandas in a future version. Use pandas.concat instead.\n",
            "  interactions_df = interactions_df.append(interaction, ignore_index=True)\n",
            "<ipython-input-45-bd07bccb192b>:44: FutureWarning: The frame.append method is deprecated and will be removed from pandas in a future version. Use pandas.concat instead.\n",
            "  interactions_df = interactions_df.append(interaction, ignore_index=True)\n",
            "<ipython-input-45-bd07bccb192b>:44: FutureWarning: The frame.append method is deprecated and will be removed from pandas in a future version. Use pandas.concat instead.\n",
            "  interactions_df = interactions_df.append(interaction, ignore_index=True)\n",
            "<ipython-input-45-bd07bccb192b>:44: FutureWarning: The frame.append method is deprecated and will be removed from pandas in a future version. Use pandas.concat instead.\n",
            "  interactions_df = interactions_df.append(interaction, ignore_index=True)\n",
            "<ipython-input-45-bd07bccb192b>:44: FutureWarning: The frame.append method is deprecated and will be removed from pandas in a future version. Use pandas.concat instead.\n",
            "  interactions_df = interactions_df.append(interaction, ignore_index=True)\n",
            "<ipython-input-45-bd07bccb192b>:44: FutureWarning: The frame.append method is deprecated and will be removed from pandas in a future version. Use pandas.concat instead.\n",
            "  interactions_df = interactions_df.append(interaction, ignore_index=True)\n",
            "<ipython-input-45-bd07bccb192b>:44: FutureWarning: The frame.append method is deprecated and will be removed from pandas in a future version. Use pandas.concat instead.\n",
            "  interactions_df = interactions_df.append(interaction, ignore_index=True)\n",
            "<ipython-input-45-bd07bccb192b>:44: FutureWarning: The frame.append method is deprecated and will be removed from pandas in a future version. Use pandas.concat instead.\n",
            "  interactions_df = interactions_df.append(interaction, ignore_index=True)\n",
            "<ipython-input-45-bd07bccb192b>:44: FutureWarning: The frame.append method is deprecated and will be removed from pandas in a future version. Use pandas.concat instead.\n",
            "  interactions_df = interactions_df.append(interaction, ignore_index=True)\n",
            "<ipython-input-45-bd07bccb192b>:44: FutureWarning: The frame.append method is deprecated and will be removed from pandas in a future version. Use pandas.concat instead.\n",
            "  interactions_df = interactions_df.append(interaction, ignore_index=True)\n",
            "<ipython-input-45-bd07bccb192b>:44: FutureWarning: The frame.append method is deprecated and will be removed from pandas in a future version. Use pandas.concat instead.\n",
            "  interactions_df = interactions_df.append(interaction, ignore_index=True)\n",
            "<ipython-input-45-bd07bccb192b>:44: FutureWarning: The frame.append method is deprecated and will be removed from pandas in a future version. Use pandas.concat instead.\n",
            "  interactions_df = interactions_df.append(interaction, ignore_index=True)\n",
            "<ipython-input-45-bd07bccb192b>:44: FutureWarning: The frame.append method is deprecated and will be removed from pandas in a future version. Use pandas.concat instead.\n",
            "  interactions_df = interactions_df.append(interaction, ignore_index=True)\n",
            "<ipython-input-45-bd07bccb192b>:44: FutureWarning: The frame.append method is deprecated and will be removed from pandas in a future version. Use pandas.concat instead.\n",
            "  interactions_df = interactions_df.append(interaction, ignore_index=True)\n",
            "<ipython-input-45-bd07bccb192b>:44: FutureWarning: The frame.append method is deprecated and will be removed from pandas in a future version. Use pandas.concat instead.\n",
            "  interactions_df = interactions_df.append(interaction, ignore_index=True)\n",
            "<ipython-input-45-bd07bccb192b>:44: FutureWarning: The frame.append method is deprecated and will be removed from pandas in a future version. Use pandas.concat instead.\n",
            "  interactions_df = interactions_df.append(interaction, ignore_index=True)\n",
            "<ipython-input-45-bd07bccb192b>:44: FutureWarning: The frame.append method is deprecated and will be removed from pandas in a future version. Use pandas.concat instead.\n",
            "  interactions_df = interactions_df.append(interaction, ignore_index=True)\n",
            "<ipython-input-45-bd07bccb192b>:44: FutureWarning: The frame.append method is deprecated and will be removed from pandas in a future version. Use pandas.concat instead.\n",
            "  interactions_df = interactions_df.append(interaction, ignore_index=True)\n",
            "<ipython-input-45-bd07bccb192b>:44: FutureWarning: The frame.append method is deprecated and will be removed from pandas in a future version. Use pandas.concat instead.\n",
            "  interactions_df = interactions_df.append(interaction, ignore_index=True)\n",
            "<ipython-input-45-bd07bccb192b>:44: FutureWarning: The frame.append method is deprecated and will be removed from pandas in a future version. Use pandas.concat instead.\n",
            "  interactions_df = interactions_df.append(interaction, ignore_index=True)\n",
            "<ipython-input-45-bd07bccb192b>:44: FutureWarning: The frame.append method is deprecated and will be removed from pandas in a future version. Use pandas.concat instead.\n",
            "  interactions_df = interactions_df.append(interaction, ignore_index=True)\n",
            "<ipython-input-45-bd07bccb192b>:44: FutureWarning: The frame.append method is deprecated and will be removed from pandas in a future version. Use pandas.concat instead.\n",
            "  interactions_df = interactions_df.append(interaction, ignore_index=True)\n",
            "<ipython-input-45-bd07bccb192b>:44: FutureWarning: The frame.append method is deprecated and will be removed from pandas in a future version. Use pandas.concat instead.\n",
            "  interactions_df = interactions_df.append(interaction, ignore_index=True)\n",
            "<ipython-input-45-bd07bccb192b>:44: FutureWarning: The frame.append method is deprecated and will be removed from pandas in a future version. Use pandas.concat instead.\n",
            "  interactions_df = interactions_df.append(interaction, ignore_index=True)\n",
            "<ipython-input-45-bd07bccb192b>:44: FutureWarning: The frame.append method is deprecated and will be removed from pandas in a future version. Use pandas.concat instead.\n",
            "  interactions_df = interactions_df.append(interaction, ignore_index=True)\n",
            "<ipython-input-45-bd07bccb192b>:44: FutureWarning: The frame.append method is deprecated and will be removed from pandas in a future version. Use pandas.concat instead.\n",
            "  interactions_df = interactions_df.append(interaction, ignore_index=True)\n",
            "<ipython-input-45-bd07bccb192b>:44: FutureWarning: The frame.append method is deprecated and will be removed from pandas in a future version. Use pandas.concat instead.\n",
            "  interactions_df = interactions_df.append(interaction, ignore_index=True)\n",
            "<ipython-input-45-bd07bccb192b>:44: FutureWarning: The frame.append method is deprecated and will be removed from pandas in a future version. Use pandas.concat instead.\n",
            "  interactions_df = interactions_df.append(interaction, ignore_index=True)\n",
            "<ipython-input-45-bd07bccb192b>:44: FutureWarning: The frame.append method is deprecated and will be removed from pandas in a future version. Use pandas.concat instead.\n",
            "  interactions_df = interactions_df.append(interaction, ignore_index=True)\n",
            "<ipython-input-45-bd07bccb192b>:44: FutureWarning: The frame.append method is deprecated and will be removed from pandas in a future version. Use pandas.concat instead.\n",
            "  interactions_df = interactions_df.append(interaction, ignore_index=True)\n",
            "<ipython-input-45-bd07bccb192b>:44: FutureWarning: The frame.append method is deprecated and will be removed from pandas in a future version. Use pandas.concat instead.\n",
            "  interactions_df = interactions_df.append(interaction, ignore_index=True)\n",
            "<ipython-input-45-bd07bccb192b>:44: FutureWarning: The frame.append method is deprecated and will be removed from pandas in a future version. Use pandas.concat instead.\n",
            "  interactions_df = interactions_df.append(interaction, ignore_index=True)\n",
            "<ipython-input-45-bd07bccb192b>:44: FutureWarning: The frame.append method is deprecated and will be removed from pandas in a future version. Use pandas.concat instead.\n",
            "  interactions_df = interactions_df.append(interaction, ignore_index=True)\n",
            "<ipython-input-45-bd07bccb192b>:44: FutureWarning: The frame.append method is deprecated and will be removed from pandas in a future version. Use pandas.concat instead.\n",
            "  interactions_df = interactions_df.append(interaction, ignore_index=True)\n",
            "<ipython-input-45-bd07bccb192b>:44: FutureWarning: The frame.append method is deprecated and will be removed from pandas in a future version. Use pandas.concat instead.\n",
            "  interactions_df = interactions_df.append(interaction, ignore_index=True)\n",
            "<ipython-input-45-bd07bccb192b>:44: FutureWarning: The frame.append method is deprecated and will be removed from pandas in a future version. Use pandas.concat instead.\n",
            "  interactions_df = interactions_df.append(interaction, ignore_index=True)\n",
            "<ipython-input-45-bd07bccb192b>:44: FutureWarning: The frame.append method is deprecated and will be removed from pandas in a future version. Use pandas.concat instead.\n",
            "  interactions_df = interactions_df.append(interaction, ignore_index=True)\n",
            "<ipython-input-45-bd07bccb192b>:44: FutureWarning: The frame.append method is deprecated and will be removed from pandas in a future version. Use pandas.concat instead.\n",
            "  interactions_df = interactions_df.append(interaction, ignore_index=True)\n",
            "<ipython-input-45-bd07bccb192b>:44: FutureWarning: The frame.append method is deprecated and will be removed from pandas in a future version. Use pandas.concat instead.\n",
            "  interactions_df = interactions_df.append(interaction, ignore_index=True)\n",
            "<ipython-input-45-bd07bccb192b>:44: FutureWarning: The frame.append method is deprecated and will be removed from pandas in a future version. Use pandas.concat instead.\n",
            "  interactions_df = interactions_df.append(interaction, ignore_index=True)\n",
            "<ipython-input-45-bd07bccb192b>:44: FutureWarning: The frame.append method is deprecated and will be removed from pandas in a future version. Use pandas.concat instead.\n",
            "  interactions_df = interactions_df.append(interaction, ignore_index=True)\n",
            "<ipython-input-45-bd07bccb192b>:44: FutureWarning: The frame.append method is deprecated and will be removed from pandas in a future version. Use pandas.concat instead.\n",
            "  interactions_df = interactions_df.append(interaction, ignore_index=True)\n",
            "<ipython-input-45-bd07bccb192b>:44: FutureWarning: The frame.append method is deprecated and will be removed from pandas in a future version. Use pandas.concat instead.\n",
            "  interactions_df = interactions_df.append(interaction, ignore_index=True)\n",
            "<ipython-input-45-bd07bccb192b>:44: FutureWarning: The frame.append method is deprecated and will be removed from pandas in a future version. Use pandas.concat instead.\n",
            "  interactions_df = interactions_df.append(interaction, ignore_index=True)\n",
            "<ipython-input-45-bd07bccb192b>:44: FutureWarning: The frame.append method is deprecated and will be removed from pandas in a future version. Use pandas.concat instead.\n",
            "  interactions_df = interactions_df.append(interaction, ignore_index=True)\n",
            "<ipython-input-45-bd07bccb192b>:44: FutureWarning: The frame.append method is deprecated and will be removed from pandas in a future version. Use pandas.concat instead.\n",
            "  interactions_df = interactions_df.append(interaction, ignore_index=True)\n",
            "<ipython-input-45-bd07bccb192b>:44: FutureWarning: The frame.append method is deprecated and will be removed from pandas in a future version. Use pandas.concat instead.\n",
            "  interactions_df = interactions_df.append(interaction, ignore_index=True)\n",
            "<ipython-input-45-bd07bccb192b>:44: FutureWarning: The frame.append method is deprecated and will be removed from pandas in a future version. Use pandas.concat instead.\n",
            "  interactions_df = interactions_df.append(interaction, ignore_index=True)\n",
            "<ipython-input-45-bd07bccb192b>:44: FutureWarning: The frame.append method is deprecated and will be removed from pandas in a future version. Use pandas.concat instead.\n",
            "  interactions_df = interactions_df.append(interaction, ignore_index=True)\n",
            "<ipython-input-45-bd07bccb192b>:44: FutureWarning: The frame.append method is deprecated and will be removed from pandas in a future version. Use pandas.concat instead.\n",
            "  interactions_df = interactions_df.append(interaction, ignore_index=True)\n",
            "<ipython-input-45-bd07bccb192b>:44: FutureWarning: The frame.append method is deprecated and will be removed from pandas in a future version. Use pandas.concat instead.\n",
            "  interactions_df = interactions_df.append(interaction, ignore_index=True)\n",
            "<ipython-input-45-bd07bccb192b>:44: FutureWarning: The frame.append method is deprecated and will be removed from pandas in a future version. Use pandas.concat instead.\n",
            "  interactions_df = interactions_df.append(interaction, ignore_index=True)\n",
            "<ipython-input-45-bd07bccb192b>:44: FutureWarning: The frame.append method is deprecated and will be removed from pandas in a future version. Use pandas.concat instead.\n",
            "  interactions_df = interactions_df.append(interaction, ignore_index=True)\n",
            "<ipython-input-45-bd07bccb192b>:44: FutureWarning: The frame.append method is deprecated and will be removed from pandas in a future version. Use pandas.concat instead.\n",
            "  interactions_df = interactions_df.append(interaction, ignore_index=True)\n",
            "<ipython-input-45-bd07bccb192b>:44: FutureWarning: The frame.append method is deprecated and will be removed from pandas in a future version. Use pandas.concat instead.\n",
            "  interactions_df = interactions_df.append(interaction, ignore_index=True)\n",
            "<ipython-input-45-bd07bccb192b>:44: FutureWarning: The frame.append method is deprecated and will be removed from pandas in a future version. Use pandas.concat instead.\n",
            "  interactions_df = interactions_df.append(interaction, ignore_index=True)\n",
            "<ipython-input-45-bd07bccb192b>:44: FutureWarning: The frame.append method is deprecated and will be removed from pandas in a future version. Use pandas.concat instead.\n",
            "  interactions_df = interactions_df.append(interaction, ignore_index=True)\n",
            "<ipython-input-45-bd07bccb192b>:44: FutureWarning: The frame.append method is deprecated and will be removed from pandas in a future version. Use pandas.concat instead.\n",
            "  interactions_df = interactions_df.append(interaction, ignore_index=True)\n",
            "<ipython-input-45-bd07bccb192b>:44: FutureWarning: The frame.append method is deprecated and will be removed from pandas in a future version. Use pandas.concat instead.\n",
            "  interactions_df = interactions_df.append(interaction, ignore_index=True)\n",
            "<ipython-input-45-bd07bccb192b>:44: FutureWarning: The frame.append method is deprecated and will be removed from pandas in a future version. Use pandas.concat instead.\n",
            "  interactions_df = interactions_df.append(interaction, ignore_index=True)\n",
            "<ipython-input-45-bd07bccb192b>:44: FutureWarning: The frame.append method is deprecated and will be removed from pandas in a future version. Use pandas.concat instead.\n",
            "  interactions_df = interactions_df.append(interaction, ignore_index=True)\n",
            "<ipython-input-45-bd07bccb192b>:44: FutureWarning: The frame.append method is deprecated and will be removed from pandas in a future version. Use pandas.concat instead.\n",
            "  interactions_df = interactions_df.append(interaction, ignore_index=True)\n",
            "<ipython-input-45-bd07bccb192b>:44: FutureWarning: The frame.append method is deprecated and will be removed from pandas in a future version. Use pandas.concat instead.\n",
            "  interactions_df = interactions_df.append(interaction, ignore_index=True)\n",
            "<ipython-input-45-bd07bccb192b>:44: FutureWarning: The frame.append method is deprecated and will be removed from pandas in a future version. Use pandas.concat instead.\n",
            "  interactions_df = interactions_df.append(interaction, ignore_index=True)\n",
            "<ipython-input-45-bd07bccb192b>:44: FutureWarning: The frame.append method is deprecated and will be removed from pandas in a future version. Use pandas.concat instead.\n",
            "  interactions_df = interactions_df.append(interaction, ignore_index=True)\n",
            "<ipython-input-45-bd07bccb192b>:44: FutureWarning: The frame.append method is deprecated and will be removed from pandas in a future version. Use pandas.concat instead.\n",
            "  interactions_df = interactions_df.append(interaction, ignore_index=True)\n",
            "<ipython-input-45-bd07bccb192b>:44: FutureWarning: The frame.append method is deprecated and will be removed from pandas in a future version. Use pandas.concat instead.\n",
            "  interactions_df = interactions_df.append(interaction, ignore_index=True)\n",
            "<ipython-input-45-bd07bccb192b>:44: FutureWarning: The frame.append method is deprecated and will be removed from pandas in a future version. Use pandas.concat instead.\n",
            "  interactions_df = interactions_df.append(interaction, ignore_index=True)\n",
            "<ipython-input-45-bd07bccb192b>:44: FutureWarning: The frame.append method is deprecated and will be removed from pandas in a future version. Use pandas.concat instead.\n",
            "  interactions_df = interactions_df.append(interaction, ignore_index=True)\n",
            "<ipython-input-45-bd07bccb192b>:44: FutureWarning: The frame.append method is deprecated and will be removed from pandas in a future version. Use pandas.concat instead.\n",
            "  interactions_df = interactions_df.append(interaction, ignore_index=True)\n",
            "<ipython-input-45-bd07bccb192b>:44: FutureWarning: The frame.append method is deprecated and will be removed from pandas in a future version. Use pandas.concat instead.\n",
            "  interactions_df = interactions_df.append(interaction, ignore_index=True)\n",
            "<ipython-input-45-bd07bccb192b>:44: FutureWarning: The frame.append method is deprecated and will be removed from pandas in a future version. Use pandas.concat instead.\n",
            "  interactions_df = interactions_df.append(interaction, ignore_index=True)\n",
            "<ipython-input-45-bd07bccb192b>:44: FutureWarning: The frame.append method is deprecated and will be removed from pandas in a future version. Use pandas.concat instead.\n",
            "  interactions_df = interactions_df.append(interaction, ignore_index=True)\n",
            "<ipython-input-45-bd07bccb192b>:44: FutureWarning: The frame.append method is deprecated and will be removed from pandas in a future version. Use pandas.concat instead.\n",
            "  interactions_df = interactions_df.append(interaction, ignore_index=True)\n",
            "<ipython-input-45-bd07bccb192b>:44: FutureWarning: The frame.append method is deprecated and will be removed from pandas in a future version. Use pandas.concat instead.\n",
            "  interactions_df = interactions_df.append(interaction, ignore_index=True)\n",
            "<ipython-input-45-bd07bccb192b>:44: FutureWarning: The frame.append method is deprecated and will be removed from pandas in a future version. Use pandas.concat instead.\n",
            "  interactions_df = interactions_df.append(interaction, ignore_index=True)\n",
            "<ipython-input-45-bd07bccb192b>:44: FutureWarning: The frame.append method is deprecated and will be removed from pandas in a future version. Use pandas.concat instead.\n",
            "  interactions_df = interactions_df.append(interaction, ignore_index=True)\n",
            "<ipython-input-45-bd07bccb192b>:44: FutureWarning: The frame.append method is deprecated and will be removed from pandas in a future version. Use pandas.concat instead.\n",
            "  interactions_df = interactions_df.append(interaction, ignore_index=True)\n",
            "<ipython-input-45-bd07bccb192b>:44: FutureWarning: The frame.append method is deprecated and will be removed from pandas in a future version. Use pandas.concat instead.\n",
            "  interactions_df = interactions_df.append(interaction, ignore_index=True)\n",
            "<ipython-input-45-bd07bccb192b>:44: FutureWarning: The frame.append method is deprecated and will be removed from pandas in a future version. Use pandas.concat instead.\n",
            "  interactions_df = interactions_df.append(interaction, ignore_index=True)\n",
            "<ipython-input-45-bd07bccb192b>:44: FutureWarning: The frame.append method is deprecated and will be removed from pandas in a future version. Use pandas.concat instead.\n",
            "  interactions_df = interactions_df.append(interaction, ignore_index=True)\n",
            "<ipython-input-45-bd07bccb192b>:44: FutureWarning: The frame.append method is deprecated and will be removed from pandas in a future version. Use pandas.concat instead.\n",
            "  interactions_df = interactions_df.append(interaction, ignore_index=True)\n",
            "<ipython-input-45-bd07bccb192b>:44: FutureWarning: The frame.append method is deprecated and will be removed from pandas in a future version. Use pandas.concat instead.\n",
            "  interactions_df = interactions_df.append(interaction, ignore_index=True)\n",
            "<ipython-input-45-bd07bccb192b>:44: FutureWarning: The frame.append method is deprecated and will be removed from pandas in a future version. Use pandas.concat instead.\n",
            "  interactions_df = interactions_df.append(interaction, ignore_index=True)\n",
            "<ipython-input-45-bd07bccb192b>:44: FutureWarning: The frame.append method is deprecated and will be removed from pandas in a future version. Use pandas.concat instead.\n",
            "  interactions_df = interactions_df.append(interaction, ignore_index=True)\n",
            "<ipython-input-45-bd07bccb192b>:44: FutureWarning: The frame.append method is deprecated and will be removed from pandas in a future version. Use pandas.concat instead.\n",
            "  interactions_df = interactions_df.append(interaction, ignore_index=True)\n",
            "<ipython-input-45-bd07bccb192b>:44: FutureWarning: The frame.append method is deprecated and will be removed from pandas in a future version. Use pandas.concat instead.\n",
            "  interactions_df = interactions_df.append(interaction, ignore_index=True)\n",
            "<ipython-input-45-bd07bccb192b>:44: FutureWarning: The frame.append method is deprecated and will be removed from pandas in a future version. Use pandas.concat instead.\n",
            "  interactions_df = interactions_df.append(interaction, ignore_index=True)\n",
            "<ipython-input-45-bd07bccb192b>:44: FutureWarning: The frame.append method is deprecated and will be removed from pandas in a future version. Use pandas.concat instead.\n",
            "  interactions_df = interactions_df.append(interaction, ignore_index=True)\n",
            "<ipython-input-45-bd07bccb192b>:44: FutureWarning: The frame.append method is deprecated and will be removed from pandas in a future version. Use pandas.concat instead.\n",
            "  interactions_df = interactions_df.append(interaction, ignore_index=True)\n",
            "<ipython-input-45-bd07bccb192b>:44: FutureWarning: The frame.append method is deprecated and will be removed from pandas in a future version. Use pandas.concat instead.\n",
            "  interactions_df = interactions_df.append(interaction, ignore_index=True)\n",
            "<ipython-input-45-bd07bccb192b>:44: FutureWarning: The frame.append method is deprecated and will be removed from pandas in a future version. Use pandas.concat instead.\n",
            "  interactions_df = interactions_df.append(interaction, ignore_index=True)\n",
            "<ipython-input-45-bd07bccb192b>:44: FutureWarning: The frame.append method is deprecated and will be removed from pandas in a future version. Use pandas.concat instead.\n",
            "  interactions_df = interactions_df.append(interaction, ignore_index=True)\n",
            "<ipython-input-45-bd07bccb192b>:44: FutureWarning: The frame.append method is deprecated and will be removed from pandas in a future version. Use pandas.concat instead.\n",
            "  interactions_df = interactions_df.append(interaction, ignore_index=True)\n",
            "<ipython-input-45-bd07bccb192b>:44: FutureWarning: The frame.append method is deprecated and will be removed from pandas in a future version. Use pandas.concat instead.\n",
            "  interactions_df = interactions_df.append(interaction, ignore_index=True)\n",
            "<ipython-input-45-bd07bccb192b>:44: FutureWarning: The frame.append method is deprecated and will be removed from pandas in a future version. Use pandas.concat instead.\n",
            "  interactions_df = interactions_df.append(interaction, ignore_index=True)\n",
            "<ipython-input-45-bd07bccb192b>:44: FutureWarning: The frame.append method is deprecated and will be removed from pandas in a future version. Use pandas.concat instead.\n",
            "  interactions_df = interactions_df.append(interaction, ignore_index=True)\n",
            "<ipython-input-45-bd07bccb192b>:44: FutureWarning: The frame.append method is deprecated and will be removed from pandas in a future version. Use pandas.concat instead.\n",
            "  interactions_df = interactions_df.append(interaction, ignore_index=True)\n",
            "<ipython-input-45-bd07bccb192b>:44: FutureWarning: The frame.append method is deprecated and will be removed from pandas in a future version. Use pandas.concat instead.\n",
            "  interactions_df = interactions_df.append(interaction, ignore_index=True)\n",
            "<ipython-input-45-bd07bccb192b>:44: FutureWarning: The frame.append method is deprecated and will be removed from pandas in a future version. Use pandas.concat instead.\n",
            "  interactions_df = interactions_df.append(interaction, ignore_index=True)\n",
            "<ipython-input-45-bd07bccb192b>:44: FutureWarning: The frame.append method is deprecated and will be removed from pandas in a future version. Use pandas.concat instead.\n",
            "  interactions_df = interactions_df.append(interaction, ignore_index=True)\n",
            "<ipython-input-45-bd07bccb192b>:44: FutureWarning: The frame.append method is deprecated and will be removed from pandas in a future version. Use pandas.concat instead.\n",
            "  interactions_df = interactions_df.append(interaction, ignore_index=True)\n",
            "<ipython-input-45-bd07bccb192b>:44: FutureWarning: The frame.append method is deprecated and will be removed from pandas in a future version. Use pandas.concat instead.\n",
            "  interactions_df = interactions_df.append(interaction, ignore_index=True)\n",
            "<ipython-input-45-bd07bccb192b>:44: FutureWarning: The frame.append method is deprecated and will be removed from pandas in a future version. Use pandas.concat instead.\n",
            "  interactions_df = interactions_df.append(interaction, ignore_index=True)\n",
            "<ipython-input-45-bd07bccb192b>:44: FutureWarning: The frame.append method is deprecated and will be removed from pandas in a future version. Use pandas.concat instead.\n",
            "  interactions_df = interactions_df.append(interaction, ignore_index=True)\n",
            "<ipython-input-45-bd07bccb192b>:44: FutureWarning: The frame.append method is deprecated and will be removed from pandas in a future version. Use pandas.concat instead.\n",
            "  interactions_df = interactions_df.append(interaction, ignore_index=True)\n",
            "<ipython-input-45-bd07bccb192b>:44: FutureWarning: The frame.append method is deprecated and will be removed from pandas in a future version. Use pandas.concat instead.\n",
            "  interactions_df = interactions_df.append(interaction, ignore_index=True)\n",
            "<ipython-input-45-bd07bccb192b>:44: FutureWarning: The frame.append method is deprecated and will be removed from pandas in a future version. Use pandas.concat instead.\n",
            "  interactions_df = interactions_df.append(interaction, ignore_index=True)\n",
            "<ipython-input-45-bd07bccb192b>:44: FutureWarning: The frame.append method is deprecated and will be removed from pandas in a future version. Use pandas.concat instead.\n",
            "  interactions_df = interactions_df.append(interaction, ignore_index=True)\n",
            "<ipython-input-45-bd07bccb192b>:44: FutureWarning: The frame.append method is deprecated and will be removed from pandas in a future version. Use pandas.concat instead.\n",
            "  interactions_df = interactions_df.append(interaction, ignore_index=True)\n",
            "<ipython-input-45-bd07bccb192b>:44: FutureWarning: The frame.append method is deprecated and will be removed from pandas in a future version. Use pandas.concat instead.\n",
            "  interactions_df = interactions_df.append(interaction, ignore_index=True)\n",
            "<ipython-input-45-bd07bccb192b>:44: FutureWarning: The frame.append method is deprecated and will be removed from pandas in a future version. Use pandas.concat instead.\n",
            "  interactions_df = interactions_df.append(interaction, ignore_index=True)\n",
            "<ipython-input-45-bd07bccb192b>:44: FutureWarning: The frame.append method is deprecated and will be removed from pandas in a future version. Use pandas.concat instead.\n",
            "  interactions_df = interactions_df.append(interaction, ignore_index=True)\n",
            "<ipython-input-45-bd07bccb192b>:44: FutureWarning: The frame.append method is deprecated and will be removed from pandas in a future version. Use pandas.concat instead.\n",
            "  interactions_df = interactions_df.append(interaction, ignore_index=True)\n",
            "<ipython-input-45-bd07bccb192b>:44: FutureWarning: The frame.append method is deprecated and will be removed from pandas in a future version. Use pandas.concat instead.\n",
            "  interactions_df = interactions_df.append(interaction, ignore_index=True)\n",
            "<ipython-input-45-bd07bccb192b>:44: FutureWarning: The frame.append method is deprecated and will be removed from pandas in a future version. Use pandas.concat instead.\n",
            "  interactions_df = interactions_df.append(interaction, ignore_index=True)\n",
            "<ipython-input-45-bd07bccb192b>:44: FutureWarning: The frame.append method is deprecated and will be removed from pandas in a future version. Use pandas.concat instead.\n",
            "  interactions_df = interactions_df.append(interaction, ignore_index=True)\n",
            "<ipython-input-45-bd07bccb192b>:44: FutureWarning: The frame.append method is deprecated and will be removed from pandas in a future version. Use pandas.concat instead.\n",
            "  interactions_df = interactions_df.append(interaction, ignore_index=True)\n",
            "<ipython-input-45-bd07bccb192b>:44: FutureWarning: The frame.append method is deprecated and will be removed from pandas in a future version. Use pandas.concat instead.\n",
            "  interactions_df = interactions_df.append(interaction, ignore_index=True)\n",
            "<ipython-input-45-bd07bccb192b>:44: FutureWarning: The frame.append method is deprecated and will be removed from pandas in a future version. Use pandas.concat instead.\n",
            "  interactions_df = interactions_df.append(interaction, ignore_index=True)\n",
            "<ipython-input-45-bd07bccb192b>:44: FutureWarning: The frame.append method is deprecated and will be removed from pandas in a future version. Use pandas.concat instead.\n",
            "  interactions_df = interactions_df.append(interaction, ignore_index=True)\n",
            "<ipython-input-45-bd07bccb192b>:44: FutureWarning: The frame.append method is deprecated and will be removed from pandas in a future version. Use pandas.concat instead.\n",
            "  interactions_df = interactions_df.append(interaction, ignore_index=True)\n",
            "<ipython-input-45-bd07bccb192b>:44: FutureWarning: The frame.append method is deprecated and will be removed from pandas in a future version. Use pandas.concat instead.\n",
            "  interactions_df = interactions_df.append(interaction, ignore_index=True)\n",
            "<ipython-input-45-bd07bccb192b>:44: FutureWarning: The frame.append method is deprecated and will be removed from pandas in a future version. Use pandas.concat instead.\n",
            "  interactions_df = interactions_df.append(interaction, ignore_index=True)\n",
            "<ipython-input-45-bd07bccb192b>:44: FutureWarning: The frame.append method is deprecated and will be removed from pandas in a future version. Use pandas.concat instead.\n",
            "  interactions_df = interactions_df.append(interaction, ignore_index=True)\n",
            "<ipython-input-45-bd07bccb192b>:44: FutureWarning: The frame.append method is deprecated and will be removed from pandas in a future version. Use pandas.concat instead.\n",
            "  interactions_df = interactions_df.append(interaction, ignore_index=True)\n",
            "<ipython-input-45-bd07bccb192b>:44: FutureWarning: The frame.append method is deprecated and will be removed from pandas in a future version. Use pandas.concat instead.\n",
            "  interactions_df = interactions_df.append(interaction, ignore_index=True)\n",
            "<ipython-input-45-bd07bccb192b>:44: FutureWarning: The frame.append method is deprecated and will be removed from pandas in a future version. Use pandas.concat instead.\n",
            "  interactions_df = interactions_df.append(interaction, ignore_index=True)\n",
            "<ipython-input-45-bd07bccb192b>:44: FutureWarning: The frame.append method is deprecated and will be removed from pandas in a future version. Use pandas.concat instead.\n",
            "  interactions_df = interactions_df.append(interaction, ignore_index=True)\n",
            "<ipython-input-45-bd07bccb192b>:44: FutureWarning: The frame.append method is deprecated and will be removed from pandas in a future version. Use pandas.concat instead.\n",
            "  interactions_df = interactions_df.append(interaction, ignore_index=True)\n",
            "<ipython-input-45-bd07bccb192b>:44: FutureWarning: The frame.append method is deprecated and will be removed from pandas in a future version. Use pandas.concat instead.\n",
            "  interactions_df = interactions_df.append(interaction, ignore_index=True)\n",
            "<ipython-input-45-bd07bccb192b>:44: FutureWarning: The frame.append method is deprecated and will be removed from pandas in a future version. Use pandas.concat instead.\n",
            "  interactions_df = interactions_df.append(interaction, ignore_index=True)\n",
            "<ipython-input-45-bd07bccb192b>:44: FutureWarning: The frame.append method is deprecated and will be removed from pandas in a future version. Use pandas.concat instead.\n",
            "  interactions_df = interactions_df.append(interaction, ignore_index=True)\n",
            "<ipython-input-45-bd07bccb192b>:44: FutureWarning: The frame.append method is deprecated and will be removed from pandas in a future version. Use pandas.concat instead.\n",
            "  interactions_df = interactions_df.append(interaction, ignore_index=True)\n",
            "<ipython-input-45-bd07bccb192b>:44: FutureWarning: The frame.append method is deprecated and will be removed from pandas in a future version. Use pandas.concat instead.\n",
            "  interactions_df = interactions_df.append(interaction, ignore_index=True)\n",
            "<ipython-input-45-bd07bccb192b>:44: FutureWarning: The frame.append method is deprecated and will be removed from pandas in a future version. Use pandas.concat instead.\n",
            "  interactions_df = interactions_df.append(interaction, ignore_index=True)\n",
            "<ipython-input-45-bd07bccb192b>:44: FutureWarning: The frame.append method is deprecated and will be removed from pandas in a future version. Use pandas.concat instead.\n",
            "  interactions_df = interactions_df.append(interaction, ignore_index=True)\n",
            "<ipython-input-45-bd07bccb192b>:44: FutureWarning: The frame.append method is deprecated and will be removed from pandas in a future version. Use pandas.concat instead.\n",
            "  interactions_df = interactions_df.append(interaction, ignore_index=True)\n",
            "<ipython-input-45-bd07bccb192b>:44: FutureWarning: The frame.append method is deprecated and will be removed from pandas in a future version. Use pandas.concat instead.\n",
            "  interactions_df = interactions_df.append(interaction, ignore_index=True)\n",
            "<ipython-input-45-bd07bccb192b>:44: FutureWarning: The frame.append method is deprecated and will be removed from pandas in a future version. Use pandas.concat instead.\n",
            "  interactions_df = interactions_df.append(interaction, ignore_index=True)\n",
            "<ipython-input-45-bd07bccb192b>:44: FutureWarning: The frame.append method is deprecated and will be removed from pandas in a future version. Use pandas.concat instead.\n",
            "  interactions_df = interactions_df.append(interaction, ignore_index=True)\n",
            "<ipython-input-45-bd07bccb192b>:44: FutureWarning: The frame.append method is deprecated and will be removed from pandas in a future version. Use pandas.concat instead.\n",
            "  interactions_df = interactions_df.append(interaction, ignore_index=True)\n",
            "<ipython-input-45-bd07bccb192b>:44: FutureWarning: The frame.append method is deprecated and will be removed from pandas in a future version. Use pandas.concat instead.\n",
            "  interactions_df = interactions_df.append(interaction, ignore_index=True)\n",
            "<ipython-input-45-bd07bccb192b>:44: FutureWarning: The frame.append method is deprecated and will be removed from pandas in a future version. Use pandas.concat instead.\n",
            "  interactions_df = interactions_df.append(interaction, ignore_index=True)\n",
            "<ipython-input-45-bd07bccb192b>:44: FutureWarning: The frame.append method is deprecated and will be removed from pandas in a future version. Use pandas.concat instead.\n",
            "  interactions_df = interactions_df.append(interaction, ignore_index=True)\n",
            "<ipython-input-45-bd07bccb192b>:44: FutureWarning: The frame.append method is deprecated and will be removed from pandas in a future version. Use pandas.concat instead.\n",
            "  interactions_df = interactions_df.append(interaction, ignore_index=True)\n",
            "<ipython-input-45-bd07bccb192b>:44: FutureWarning: The frame.append method is deprecated and will be removed from pandas in a future version. Use pandas.concat instead.\n",
            "  interactions_df = interactions_df.append(interaction, ignore_index=True)\n",
            "<ipython-input-45-bd07bccb192b>:44: FutureWarning: The frame.append method is deprecated and will be removed from pandas in a future version. Use pandas.concat instead.\n",
            "  interactions_df = interactions_df.append(interaction, ignore_index=True)\n",
            "<ipython-input-45-bd07bccb192b>:44: FutureWarning: The frame.append method is deprecated and will be removed from pandas in a future version. Use pandas.concat instead.\n",
            "  interactions_df = interactions_df.append(interaction, ignore_index=True)\n",
            "<ipython-input-45-bd07bccb192b>:44: FutureWarning: The frame.append method is deprecated and will be removed from pandas in a future version. Use pandas.concat instead.\n",
            "  interactions_df = interactions_df.append(interaction, ignore_index=True)\n",
            "<ipython-input-45-bd07bccb192b>:44: FutureWarning: The frame.append method is deprecated and will be removed from pandas in a future version. Use pandas.concat instead.\n",
            "  interactions_df = interactions_df.append(interaction, ignore_index=True)\n",
            "<ipython-input-45-bd07bccb192b>:44: FutureWarning: The frame.append method is deprecated and will be removed from pandas in a future version. Use pandas.concat instead.\n",
            "  interactions_df = interactions_df.append(interaction, ignore_index=True)\n",
            "<ipython-input-45-bd07bccb192b>:44: FutureWarning: The frame.append method is deprecated and will be removed from pandas in a future version. Use pandas.concat instead.\n",
            "  interactions_df = interactions_df.append(interaction, ignore_index=True)\n",
            "<ipython-input-45-bd07bccb192b>:44: FutureWarning: The frame.append method is deprecated and will be removed from pandas in a future version. Use pandas.concat instead.\n",
            "  interactions_df = interactions_df.append(interaction, ignore_index=True)\n",
            "<ipython-input-45-bd07bccb192b>:44: FutureWarning: The frame.append method is deprecated and will be removed from pandas in a future version. Use pandas.concat instead.\n",
            "  interactions_df = interactions_df.append(interaction, ignore_index=True)\n"
          ]
        }
      ]
    },
    {
      "cell_type": "code",
      "source": [
        "# Display the ship-to-ship interactions\n",
        "print(interactions_df)"
      ],
      "metadata": {
        "colab": {
          "base_uri": "https://localhost:8080/",
          "height": 0
        },
        "id": "hqjf4Lexgz-t",
        "outputId": "ad6066ac-d0b7-4f1c-c5ed-d2e93dc9cf1b"
      },
      "execution_count": 46,
      "outputs": [
        {
          "output_type": "stream",
          "name": "stdout",
          "text": [
            "         Ship1      Ship2               InteractionTime  Distance\n",
            "0    232012297  235067397 1970-01-01 00:00:01.681281191  0.006262\n",
            "1    232012297  235067397 1970-01-01 00:00:01.681281910  0.006237\n",
            "2    232012297  235067397 1970-01-01 00:00:01.681282881  0.005869\n",
            "3    232012297  235067397 1970-01-01 00:00:01.681283510  0.005247\n",
            "4    232012297  235067397 1970-01-01 00:00:01.681284814  0.007009\n",
            "5    232012297  235067397 1970-01-01 00:00:01.681286357  0.004764\n",
            "6    232012297  235067397 1970-01-01 00:00:01.681286456  0.003791\n",
            "7    232012297  235067397 1970-01-01 00:00:01.681287410  0.004935\n",
            "8    232012297  235067397 1970-01-01 00:00:01.681287762  0.138474\n",
            "9    232012297  235067397 1970-01-01 00:00:01.681288440  0.935841\n",
            "10   232012297  235067397 1970-01-01 00:00:01.681290245  0.885604\n",
            "11   232012297  235067397 1970-01-01 00:00:01.681292053  0.886564\n",
            "12   232012297  235067397 1970-01-01 00:00:01.681293857  0.886564\n",
            "13   232012297  235067397 1970-01-01 00:00:01.681294688  0.886564\n",
            "14   232012297  235067397 1970-01-01 00:00:01.681295663  0.886564\n",
            "15   232012297  235067397 1970-01-01 00:00:01.681297467  0.886564\n",
            "16   232012297  235067397 1970-01-01 00:00:01.681298335  2.706248\n",
            "17   232012297  235067397 1970-01-01 00:00:01.681298704  3.172621\n",
            "18   232012297  235067397 1970-01-01 00:00:01.681299119  4.824444\n",
            "19   232012297  235067397 1970-01-01 00:00:01.681299672  4.603311\n",
            "20   232012297  235067397 1970-01-01 00:00:01.681312990  4.483184\n",
            "21   232012297  235067397 1970-01-01 00:00:01.681313894  3.543207\n",
            "22   232012297  235067397 1970-01-01 00:00:01.681314014  3.122603\n",
            "23   232012297  235067397 1970-01-01 00:00:01.681315201  0.023131\n",
            "24   232012297  235067397 1970-01-01 00:00:01.681366914  0.007804\n",
            "25   232012297  235067397 1970-01-01 00:00:01.681367557  0.007166\n",
            "26   232012297  235067397 1970-01-01 00:00:01.681368209  0.006872\n",
            "27   232012297  235067397 1970-01-01 00:00:01.681368707  0.006032\n",
            "28   232012297  235067397 1970-01-01 00:00:01.681369907  0.005251\n",
            "29   232012297  235067397 1970-01-01 00:00:01.681370406  0.005905\n",
            "30   232012297  235067397 1970-01-01 00:00:01.681371126  0.005072\n",
            "31   232012297  235067397 1970-01-01 00:00:01.681371964  0.005468\n",
            "32   232012297  235067397 1970-01-01 00:00:01.681372214  0.005132\n",
            "33   232012297  235067397 1970-01-01 00:00:01.681373065  0.005209\n",
            "34   232012297  235067397 1970-01-01 00:00:01.681373506  0.005123\n",
            "35   232012297  235067397 1970-01-01 00:00:01.681374026  0.004530\n",
            "36   232012297  235067397 1970-01-01 00:00:01.681375684  0.003973\n",
            "37   232012297  235067397 1970-01-01 00:00:01.681375924  0.004067\n",
            "38   232012297  235067397 1970-01-01 00:00:01.681376684  0.003838\n",
            "39   232012297  235067397 1970-01-01 00:00:01.681377144  0.004175\n",
            "40   232012297  235067397 1970-01-01 00:00:01.681377772  0.005123\n",
            "41   232012297  235067397 1970-01-01 00:00:01.681379583  0.004604\n",
            "42   232012297  235067397 1970-01-01 00:00:01.681380393  0.004891\n",
            "43   232012297  235067397 1970-01-01 00:00:01.681380799  0.004823\n",
            "44   232012297  235067397 1970-01-01 00:00:01.681381392  0.005123\n",
            "45   232012297  235067397 1970-01-01 00:00:01.681383210  0.005123\n",
            "46   232012297  235067397 1970-01-01 00:00:01.681384262  0.004175\n",
            "47   232012297  235067397 1970-01-01 00:00:01.681385016  0.005123\n",
            "48   232012297  235067397 1970-01-01 00:00:01.681386821  0.004194\n",
            "49   232012297  235067397 1970-01-01 00:00:01.681387624  0.004212\n",
            "50   232012297  235067397 1970-01-01 00:00:01.681387896  0.004362\n",
            "51   232012297  235067397 1970-01-01 00:00:01.681388661  0.004698\n",
            "52   232012297  235067397 1970-01-01 00:00:01.681389006  0.199710\n",
            "53   232012297  235067397 1970-01-01 00:00:01.681389629  0.289657\n",
            "54   232012297  235067397 1970-01-01 00:00:01.681390299  0.287513\n",
            "55   232012297  235067397 1970-01-01 00:00:01.681391194  0.289546\n",
            "56   232012297  235067397 1970-01-01 00:00:01.681391514  0.289618\n",
            "57   232012297  235067397 1970-01-01 00:00:01.681392011  0.289756\n",
            "58   232012297  235067397 1970-01-01 00:00:01.681393363  0.286554\n",
            "59   232012297  235067397 1970-01-01 00:00:01.681394085  0.288509\n",
            "60   232012297  235067397 1970-01-01 00:00:01.681394432  0.238019\n",
            "61   232012297  235067397 1970-01-01 00:00:01.681395161  0.028393\n",
            "62   232012297  235067397 1970-01-01 00:00:01.681395875  0.028843\n",
            "63   232012297  235067397 1970-01-01 00:00:01.681396838  0.028927\n",
            "64   232012297  235067397 1970-01-01 00:00:01.681397414  0.028577\n",
            "65   232012297  235067397 1970-01-01 00:00:01.681398112  0.027419\n",
            "66   232012297  235067397 1970-01-01 00:00:01.681398726  0.027541\n",
            "67   232012297  235067397 1970-01-01 00:00:01.681399242  0.028214\n",
            "68   232012297  235067397 1970-01-01 00:00:01.681399819  0.029316\n",
            "69   232012297  235067397 1970-01-01 00:00:01.681400545  0.028819\n",
            "70   232012297  235067397 1970-01-01 00:00:01.681401190  0.028178\n",
            "71   232012297  235067397 1970-01-01 00:00:01.681401723  0.027855\n",
            "72   232012297  235067397 1970-01-01 00:00:01.681402434  0.027135\n",
            "73   232012297  235067397 1970-01-01 00:00:01.681403037  0.026943\n",
            "74   232012297  235067397 1970-01-01 00:00:01.681403593  0.027395\n",
            "75   232012297  235067397 1970-01-01 00:00:01.681404114  0.027685\n",
            "76   232012297  235067397 1970-01-01 00:00:01.681404667  0.027535\n",
            "77   232012297  235067397 1970-01-01 00:00:01.681405276  0.027130\n",
            "78   232012297  235067397 1970-01-01 00:00:01.681405928  0.026824\n",
            "79   232012297  235067397 1970-01-01 00:00:01.681406572  0.026603\n",
            "80   232012297  235067397 1970-01-01 00:00:01.681407050  0.026467\n",
            "81   232012297  235067397 1970-01-01 00:00:01.681407769  0.026385\n",
            "82   232012297  235067397 1970-01-01 00:00:01.681408391  0.026217\n",
            "83   232012297  235067397 1970-01-01 00:00:01.681408981  0.026536\n",
            "84   232012297  235067397 1970-01-01 00:00:01.681410035  0.026644\n",
            "85   232012297  235067397 1970-01-01 00:00:01.681410799  0.026536\n",
            "86   232012297  235067397 1970-01-01 00:00:01.681411464  0.026409\n",
            "87   232012297  235067397 1970-01-01 00:00:01.681411914  0.026036\n",
            "88   232012297  235067397 1970-01-01 00:00:01.681412757  0.027446\n",
            "89   232012297  235067397 1970-01-01 00:00:01.681413112  0.980587\n",
            "90   232012297  235067397 1970-01-01 00:00:01.681414841  4.568331\n",
            "91   232012297  235067397 1970-01-01 00:00:01.681453960  4.538347\n",
            "92   232012297  235067397 1970-01-01 00:00:01.681454449  4.952380\n",
            "93   232012297  235067397 1970-01-01 00:00:01.681455070  2.930195\n",
            "94   232012297  235067397 1970-01-01 00:00:01.681455623  1.407477\n",
            "95   232012297  235067397 1970-01-01 00:00:01.681456206  0.227309\n",
            "96   232012297  235067397 1970-01-01 00:00:01.681456802  0.005173\n",
            "97   232012297  235067397 1970-01-01 00:00:01.681457557  0.005527\n",
            "98   232030022  232013113 1970-01-01 00:00:01.681257842  0.051511\n",
            "99   232030022  232013113 1970-01-01 00:00:01.681258703  0.010875\n",
            "100  232030022  232013113 1970-01-01 00:00:01.681259304  0.011528\n",
            "101  232030022  232013113 1970-01-01 00:00:01.681259653  0.010585\n",
            "102  232030022  232013113 1970-01-01 00:00:01.681260514  0.011348\n",
            "103  232030022  232013113 1970-01-01 00:00:01.681260514  0.010910\n",
            "104  232030022  232013113 1970-01-01 00:00:01.681261123  0.010745\n",
            "105  232030022  232013113 1970-01-01 00:00:01.681261462  0.010860\n",
            "106  232030022  232013113 1970-01-01 00:00:01.681262332  0.010779\n",
            "107  232030022  232013113 1970-01-01 00:00:01.681262943  0.010745\n",
            "108  232030022  232013113 1970-01-01 00:00:01.681263074  0.010871\n",
            "109  232030022  232013113 1970-01-01 00:00:01.681264152  0.010956\n",
            "110  232030022  232013113 1970-01-01 00:00:01.681264336  0.010224\n",
            "111  232030022  232013113 1970-01-01 00:00:01.681265093  0.010694\n",
            "112  232030022  232013113 1970-01-01 00:00:01.681265576  0.010267\n",
            "113  232030022  232013113 1970-01-01 00:00:01.681266012  0.010494\n",
            "114  232030022  232013113 1970-01-01 00:00:01.681266846  0.009990\n",
            "115  232030022  232013113 1970-01-01 00:00:01.681267784  0.009559\n",
            "116  232030022  232013113 1970-01-01 00:00:01.681267813  0.010401\n",
            "117  232030022  232013113 1970-01-01 00:00:01.681268722  0.011166\n",
            "118  232030022  232013113 1970-01-01 00:00:01.681269305  0.009782\n",
            "119  232030022  232013113 1970-01-01 00:00:01.681269632  0.010064\n",
            "120  232030022  232013113 1970-01-01 00:00:01.681270532  0.009522\n",
            "121  232030022  232013113 1970-01-01 00:00:01.681271403  0.038802\n",
            "122  232030022  232013113 1970-01-01 00:00:01.681272013  0.010317\n",
            "123  232030022  232013113 1970-01-01 00:00:01.681272614  0.008775\n",
            "124  232030022  232013113 1970-01-01 00:00:01.681273223  0.008485\n",
            "125  232030022  232013113 1970-01-01 00:00:01.681273824  0.008525\n",
            "126  232030022  232013113 1970-01-01 00:00:01.681274424  0.008670\n",
            "127  232030022  232013113 1970-01-01 00:00:01.681275032  0.051366\n",
            "128  232030022  232013113 1970-01-01 00:00:01.681275962  0.010064\n",
            "129  232030022  232013113 1970-01-01 00:00:01.681276244  0.010365\n",
            "130  232030022  232013113 1970-01-01 00:00:01.681276871  0.076253\n",
            "131  232030022  232013113 1970-01-01 00:00:01.681277453  0.408488\n",
            "132  232030022  232013113 1970-01-01 00:00:01.681278034  2.140230\n",
            "133  232030022  232013113 1970-01-01 00:00:01.681278673  4.820729\n",
            "134  232030022  232013113 1970-01-01 00:00:01.681396853  2.947329\n",
            "135  232030022  232013113 1970-01-01 00:00:01.681397513  1.103039\n",
            "136  232030022  232013113 1970-01-01 00:00:01.681398052  0.093876\n",
            "137  232030022  232013113 1970-01-01 00:00:01.681398666  0.069954\n",
            "138  232030022  232013113 1970-01-01 00:00:01.681399352  0.026072\n",
            "139  232030022  232013113 1970-01-01 00:00:01.681399994  0.635651\n",
            "140  232030022  232013113 1970-01-01 00:00:01.681400473  2.579751\n",
            "141  232030022  232013113 1970-01-01 00:00:01.681401011  4.407860\n",
            "142  232030022  232013113 1970-01-01 00:00:01.681439434  3.012031\n",
            "143  232030022  232013113 1970-01-01 00:00:01.681440093  0.530340\n",
            "144  232030022  232013113 1970-01-01 00:00:01.681440714  2.863099\n",
            "145  232030022  232013113 1970-01-01 00:00:01.681482043  2.738009\n",
            "146  232030022  232013113 1970-01-01 00:00:01.681482605  2.090678\n",
            "147  232030022  232013113 1970-01-01 00:00:01.681483323  3.715406\n",
            "148  232032365  235088244 1970-01-01 00:00:01.681396832  2.924588\n",
            "149  232032365  235088244 1970-01-01 00:00:01.681397449  0.549115\n",
            "150  232032365  235088244 1970-01-01 00:00:01.681398058  2.330125\n",
            "151  232032365  235088244 1970-01-01 00:00:01.681398639  4.949988\n",
            "152  235067397  232012297 1970-01-01 00:00:01.681276845  0.010450\n",
            "153  235067397  232012297 1970-01-01 00:00:01.681277403  0.030958\n",
            "154  235067397  232012297 1970-01-01 00:00:01.681278023  0.983019\n",
            "155  235067397  232012297 1970-01-01 00:00:01.681278682  2.710278\n",
            "156  235067397  232012297 1970-01-01 00:00:01.681279672  4.578338\n",
            "157  235067397  232012297 1970-01-01 00:00:01.681279874  4.665091\n",
            "158  235067397  232012297 1970-01-01 00:00:01.681303876  2.808485\n",
            "159  235067397  232012297 1970-01-01 00:00:01.681305337  2.843446\n",
            "160  235067397  232012297 1970-01-01 00:00:01.681305636  2.846297\n",
            "161  235067397  232012297 1970-01-01 00:00:01.681306216  2.799972\n",
            "162  235067397  232012297 1970-01-01 00:00:01.681307017  1.838959\n",
            "163  235067397  232012297 1970-01-01 00:00:01.681307477  0.032145\n",
            "164  235067397  232012297 1970-01-01 00:00:01.681308057  0.221992\n",
            "165  235067397  232012297 1970-01-01 00:00:01.681308616  0.362353\n",
            "166  235067397  232012297 1970-01-01 00:00:01.681309204  0.319803\n",
            "167  235067397  232012297 1970-01-01 00:00:01.681309804  0.350972\n",
            "168  235067397  232012297 1970-01-01 00:00:01.681310401  0.281467\n",
            "169  235067397  232012297 1970-01-01 00:00:01.681311012  0.004476\n",
            "170  235067397  232012297 1970-01-01 00:00:01.681311620  0.004552\n",
            "171  235067397  232012297 1970-01-01 00:00:01.681312541  0.004371\n",
            "172  235067397  232012297 1970-01-01 00:00:01.681312999  0.004116\n",
            "173  235067397  232012297 1970-01-01 00:00:01.681313457  0.003597\n",
            "174  235067397  232012297 1970-01-01 00:00:01.681314039  0.160915\n",
            "175  235067397  232012297 1970-01-01 00:00:01.681314618  0.239707\n",
            "176  235067397  232012297 1970-01-01 00:00:01.681315409  0.022457\n",
            "177  235067397  232012297 1970-01-01 00:00:01.681361646  0.301848\n",
            "178  235067397  232012297 1970-01-01 00:00:01.681362528  0.903057\n",
            "179  235067397  232012297 1970-01-01 00:00:01.681362668  1.849512\n",
            "180  235067397  232012297 1970-01-01 00:00:01.681363505  2.886878\n",
            "181  235067397  232012297 1970-01-01 00:00:01.681364648  4.597439\n",
            "182  235067397  232012297 1970-01-01 00:00:01.681386852  4.575491\n",
            "183  235067397  232012297 1970-01-01 00:00:01.681387692  4.494584\n",
            "184  235067397  232012297 1970-01-01 00:00:01.681388052  2.828645\n",
            "185  235067397  232012297 1970-01-01 00:00:01.681388630  1.249703\n",
            "186  235067397  232012297 1970-01-01 00:00:01.681389093  0.068367\n",
            "187  235067397  232012297 1970-01-01 00:00:01.681389733  0.037564\n",
            "188  235067397  232012297 1970-01-01 00:00:01.681390212  0.021407\n",
            "189  235067397  232012297 1970-01-01 00:00:01.681390892  0.014086\n",
            "190  235067397  232012297 1970-01-01 00:00:01.681391453  0.009526\n",
            "191  235067397  232012297 1970-01-01 00:00:01.681392033  0.005572\n",
            "192  235067397  232012297 1970-01-01 00:00:01.681392761  0.002185\n",
            "193  235067397  232012297 1970-01-01 00:00:01.681393292  0.000298\n",
            "194  235067397  232012297 1970-01-01 00:00:01.681394082  0.001389\n",
            "195  235067397  232012297 1970-01-01 00:00:01.681394418  0.002227\n",
            "196  235067397  232012297 1970-01-01 00:00:01.681395057  0.002935\n",
            "197  235067397  232012297 1970-01-01 00:00:01.681395718  0.003458\n",
            "198  235067397  232012297 1970-01-01 00:00:01.681396536  0.004176\n",
            "199  235067397  232012297 1970-01-01 00:00:01.681396806  0.004750\n",
            "200  235067397  232012297 1970-01-01 00:00:01.681397495  0.004979\n",
            "201  235067397  232012297 1970-01-01 00:00:01.681398013  0.002993\n",
            "202  235067397  232012297 1970-01-01 00:00:01.681398615  0.002725\n",
            "203  235067397  232012297 1970-01-01 00:00:01.681399254  0.002295\n",
            "204  235067397  232012297 1970-01-01 00:00:01.681399843  0.001990\n",
            "205  235067397  232012297 1970-01-01 00:00:01.681400413  0.002121\n",
            "206  235067397  232012297 1970-01-01 00:00:01.681449944  0.240562\n",
            "207  235067397  232012297 1970-01-01 00:00:01.681450414  1.813419\n",
            "208  235067397  232012297 1970-01-01 00:00:01.681450912  3.556330\n",
            "209  235067397  232012297 1970-01-01 00:00:01.681455795  3.233544\n",
            "210  235067397  232012297 1970-01-01 00:00:01.681456415  1.903944\n",
            "211  235067397  232012297 1970-01-01 00:00:01.681456875  0.271072\n",
            "212  235067397  232012297 1970-01-01 00:00:01.681457604  0.001876\n",
            "213  235067397  232012297 1970-01-01 00:00:01.681458024  0.001987\n",
            "214  235067397  232012297 1970-01-01 00:00:01.681458654  0.002836\n",
            "215  235067397  232012297 1970-01-01 00:00:01.681459234  0.004010\n",
            "216  235067397  232012297 1970-01-01 00:00:01.681459824  0.004937\n",
            "217  235067397  232012297 1970-01-01 00:00:01.681460535  0.005031\n",
            "218  235067397  232012297 1970-01-01 00:00:01.681461254  0.005162\n",
            "219  235067397  232012297 1970-01-01 00:00:01.681461615  0.004856\n",
            "220  235067397  232012297 1970-01-01 00:00:01.681462205  0.004881\n",
            "221  235067397  232012297 1970-01-01 00:00:01.681462814  0.005171\n",
            "222  235067397  232012297 1970-01-01 00:00:01.681463415  0.005481\n",
            "223  235067397  232012297 1970-01-01 00:00:01.681464015  0.005797\n",
            "224  235067397  232012297 1970-01-01 00:00:01.681464614  0.005973\n",
            "225  235067397  232012297 1970-01-01 00:00:01.681465515  0.006340\n",
            "226  235067397  232012297 1970-01-01 00:00:01.681465854  0.006446\n",
            "227  235067397  232012297 1970-01-01 00:00:01.681466455  0.007133\n",
            "228  235067397  232012297 1970-01-01 00:00:01.681467014  0.007165\n",
            "229  235067397  232012297 1970-01-01 00:00:01.681467634  0.007186\n",
            "230  235067397  232012297 1970-01-01 00:00:01.681468235  0.006999\n",
            "231  235067397  232012297 1970-01-01 00:00:01.681468814  0.006935\n",
            "232  235067397  232012297 1970-01-01 00:00:01.681469415  0.006450\n",
            "233  235067397  232012297 1970-01-01 00:00:01.681470105  0.005937\n",
            "234  235067397  232012297 1970-01-01 00:00:01.681470654  0.005572\n",
            "235  235067397  232012297 1970-01-01 00:00:01.681471224  0.005483\n",
            "236  235067397  232012297 1970-01-01 00:00:01.681471814  0.005527\n"
          ]
        }
      ]
    },
    {
      "cell_type": "markdown",
      "source": [
        "This output can be used to identify potential STS transfers. For example, if two ships are within a certain distance of each other for a period of time, it is possible that they are transferring goods.\n",
        "\n",
        "Here are some additional things to note about the output:\n",
        "\n",
        "The timestamp is in the UTC time zone.\n",
        "The distance is in kilometers.\n",
        "The output is sorted by timestamp."
      ],
      "metadata": {
        "id": "qGVjcXSShKnI"
      }
    },
    {
      "cell_type": "markdown",
      "source": [
        "* What would you need to build a model to detect STS transfers? (15%)"
      ],
      "metadata": {
        "id": "BQuV3XzueF2T"
      }
    },
    {
      "cell_type": "markdown",
      "source": [
        "Sure, here are the features that would need to build a model to detect STS transfers:\n",
        "\n",
        "* **MMSI:** The Maritime Mobile Service Identity (MMSI) is a unique identifier for each ship. This can be used to track the movements of individual ships over time.\n",
        "* **NavigationalStatus:** The NavigationalStatus field indicates the current state of the ship. For example, a ship that is \"AtAnchor\" is not likely to be involved in an STS transfer, while a ship that is \"Underway\" is more likely to be involved.\n",
        "* **Timestamp:** The timestamp field indicates the time at which the data was recorded. This can be used to track the movements of ships over time and to identify potential STS transfers.\n",
        "* **Latitude:** The latitude field indicates the ship's position on the Earth's surface. This can be used to track the movements of ships over time and to identify potential STS transfers.\n",
        "* **Longitude:** The longitude field indicates the ship's position on the Earth's surface. This can be used to track the movements of ships over time and to identify potential STS transfers.\n",
        "* **Speed:** The speed field indicates the ship's speed in knots. This can be used to identify ships that are moving slowly, which are more likely to be involved in STS transfers.\n",
        "* **Course:** The course field indicates the ship's direction of travel. This can be used to identify ships that are moving towards each other, which are more likely to be involved in STS transfers.\n",
        "\n",
        "In addition to these features, we may also want to consider using other features, such as the size of the ships, the type of cargo that they are carrying, and the weather conditions. The specific features that we use will depend on the specific data that we have available and the goals of your model.\n",
        "\n",
        "Once we have identified the features that we want to use, we can then build a model to detect STS transfers. There are a number of different machine learning algorithms that we could use, such as decision trees, random forests, or support vector machines. The specific algorithm that we use will depend on the specific features that we have available and the goals of your model.\n",
        "\n",
        "Once we have built your model, we can then use it to predict whether or not a particular interaction between two ships is an STS transfer. You can then use this information to monitor shipping activity and to identify potential STS transfers."
      ],
      "metadata": {
        "id": "YPpnJFDVeFyy"
      }
    },
    {
      "cell_type": "markdown",
      "source": [
        "* What further steps would be required to detect transfers in real time from a stream of positions\n",
        "(15%)"
      ],
      "metadata": {
        "id": "ct17fU3ge6S2"
      }
    },
    {
      "cell_type": "markdown",
      "source": [
        "To detect transfers in real time from a stream of positions, the following further steps would be required:\n",
        "\n",
        "1. Real-Time Data Streaming: Set up a system to receive and process a continuous stream of ship positions in real time. This could involve integrating with data sources such as AIS (Automatic Identification System) receivers or other tracking systems that provide ship position updates.\n",
        "\n",
        "2. Feature Engineering: Extract relevant features from the real-time position data that can capture the characteristics of STS transfers. This may include the same features mentioned before, such as ship proximity, changes in speed and course, and the relative positions of ships over time.\n",
        "\n",
        "3. Data Preprocessing: Apply necessary preprocessing steps to the incoming real-time data, such as handling missing values, normalizing or scaling features, and encoding categorical variables. Ensure that the preprocessing steps align with the preprocessing done during the model training phase.\n",
        "\n",
        "4. Model Deployment: Deploy the trained model on a real-time data processing system, such as a stream processing framework or a cloud-based service. This involves integrating the model into the system and configuring it to continuously process the incoming ship position data.\n",
        "\n",
        "5. Real-Time Prediction: Apply the trained model to make predictions on the real-time ship position data. This involves feeding the current ship positions into the model and obtaining predictions for each position update.\n",
        "\n",
        "6. Threshold Setting: Define appropriate thresholds or criteria to determine when an STS transfer is detected based on the model predictions. This could be based on certain conditions, such as the duration of the interaction, the proximity of ships, or changes in speed and course.\n",
        "\n",
        "7. Alerting and Reporting: Set up a mechanism to generate alerts or notifications when an STS transfer is detected in real time. This could involve sending notifications to relevant stakeholders, triggering automated actions, or logging the detected transfers for further analysis or reporting.\n",
        "\n",
        "8. Monitoring and Maintenance: Continuously monitor the performance of the real-time detection system, including the accuracy and reliability of the predictions. Regularly assess the model's performance, update the model if necessary, and fine-tune the system to ensure optimal detection of STS transfers.\n",
        "\n",
        "It is important to note that real-time detection of STS transfers can be challenging due to the need for timely processing and handling of large volumes of streaming data. Therefore, considerations such as system scalability, computational resources, and efficient algorithms are crucial in implementing an effective real-time STS detection solution."
      ],
      "metadata": {
        "id": "n9VfcrV2eyYl"
      }
    }
  ],
  "metadata": {
    "accelerator": "GPU",
    "colab": {
      "provenance": [],
      "gpuType": "T4",
      "authorship_tag": "ABX9TyN5OaNytJM36ZwavdfePaj0",
      "include_colab_link": true
    },
    "kernelspec": {
      "display_name": "Python 3",
      "name": "python3"
    },
    "language_info": {
      "name": "python"
    }
  },
  "nbformat": 4,
  "nbformat_minor": 0
}